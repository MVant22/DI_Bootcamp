{
 "cells": [
  {
   "cell_type": "code",
   "execution_count": null,
   "id": "7356bc59",
   "metadata": {},
   "outputs": [
    {
     "name": "stdout",
     "output_type": "stream",
     "text": [
      "[[97 33 43 45 60]\n",
      " [56 95 14 64  9]\n",
      " [11 12 10 91  6]\n",
      " [53 60 36 52 37]\n",
      " [73 74 10 56 39]]\n",
      "\n",
      "[[97 33 43 45 60]\n",
      " [56 95 14 64  9]\n",
      " [73 74 10 56 39]\n",
      " [53 60 36 52 37]\n",
      " [11 12 10 91  6]]\n"
     ]
    }
   ],
   "source": [
    "# exercise 1 - Matrix manipulation \n",
    "import numpy as np\n",
    "\n",
    "data = np.array(np.random.randint(1, 100, size = 25)).reshape(5, 5)\n",
    "print(data)\n",
    "\n",
    "print()\n",
    "\n",
    "data[[2, 4]] = data[[4, 2]]\n",
    "print(data)"
   ]
  },
  {
   "cell_type": "code",
   "execution_count": 8,
   "id": "3a1c7191",
   "metadata": {},
   "outputs": [
    {
     "name": "stdout",
     "output_type": "stream",
     "text": [
      "[[0.2 0.6 0.4]\n",
      " [0.  0.8 1. ]]\n"
     ]
    }
   ],
   "source": [
    "# exercise 2 - Normalization\n",
    "data_normalise = np.array([\n",
    "    [4, 8, 6],\n",
    "    [2, 10, 12]\n",
    "])\n",
    "\n",
    "data_min = np.min(data_normalise)\n",
    "data_max = np.max(data_normalise)\n",
    "normalise_data = (data_normalise - np.min(data_normalise)) / (np.max(data_normalise) - np.min(data_normalise))\n",
    "\n",
    "print(normalise_data)"
   ]
  },
  {
   "cell_type": "code",
   "execution_count": 9,
   "id": "e51b2c4f",
   "metadata": {},
   "outputs": [
    {
     "name": "stdout",
     "output_type": "stream",
     "text": [
      "[[-0.87831007  0.29277002 -0.29277002]\n",
      " [-1.46385011  0.87831007  1.46385011]]\n"
     ]
    }
   ],
   "source": [
    "# exercise 3 - Z-score normalization\n",
    "data_score = np.array([\n",
    "    [4, 8, 6],\n",
    "    [2, 10, 12]\n",
    "])\n",
    "\n",
    "z_score_data = (data_score - np.mean(data_score)) / np.std(data_score)\n",
    "print(z_score_data)\n"
   ]
  },
  {
   "cell_type": "code",
   "execution_count": 10,
   "id": "352271e7",
   "metadata": {},
   "outputs": [
    {
     "name": "stdout",
     "output_type": "stream",
     "text": [
      "[ 4  8  6  2 10 12]\n"
     ]
    }
   ],
   "source": [
    "# exercise 4 - Array splitting\n",
    "\n",
    "data_splitting = np.array([\n",
    "    [4, 8, 6],\n",
    "    [2, 10, 12]\n",
    "])\n",
    "\n",
    "vector = np.ravel(data_splitting)\n",
    "print(vector)"
   ]
  },
  {
   "cell_type": "code",
   "execution_count": null,
   "id": "7ec8789f",
   "metadata": {},
   "outputs": [
    {
     "name": "stdout",
     "output_type": "stream",
     "text": [
      "26\n"
     ]
    }
   ],
   "source": [
    "# exercise 5 - Dot product\n",
    "array_1 = np.array([1, 2, 3])\n",
    "array_2 = np.array([3, 4, 5])\n",
    "\n",
    "result = np.dot(array_1, array_2)\n",
    "print(result)"
   ]
  },
  {
   "cell_type": "code",
   "execution_count": 17,
   "id": "e1b453c8",
   "metadata": {},
   "outputs": [
    {
     "name": "stdout",
     "output_type": "stream",
     "text": [
      "[[ 30  36  42]\n",
      " [ 66  81  96]\n",
      " [102 126 150]]\n"
     ]
    }
   ],
   "source": [
    "# exercise 6 - Matrix multiplication\n",
    "data1 = np.array([\n",
    "    [1, 2, 3],\n",
    "    [4, 5, 6],\n",
    "    [7, 8, 9]\n",
    "])\n",
    "\n",
    "data2 = np.array([\n",
    "    [1, 2, 3],\n",
    "    [4, 5, 6],\n",
    "    [7, 8, 9]\n",
    "])\n",
    "\n",
    "result_data1_data2 = np.dot(data1, data2)\n",
    "print(result_data1_data2)"
   ]
  },
  {
   "cell_type": "code",
   "execution_count": 8,
   "id": "308b1b9c",
   "metadata": {},
   "outputs": [
    {
     "name": "stdout",
     "output_type": "stream",
     "text": [
      "Oringal array [[1 2 1]\n",
      " [0 1 0]\n",
      " [2 3 4]]\n",
      "Multi array by 2 [[2 4 2]\n",
      " [0 2 0]\n",
      " [4 6 8]]\n",
      "Reverse of array \n",
      " [[ 2.  -2.5 -0.5]\n",
      " [ 0.   1.   0. ]\n",
      " [-1.   0.5  0.5]]\n"
     ]
    }
   ],
   "source": [
    "# exercise 7 - Inverse of a matrix \n",
    "original_rev_array = np.array([\n",
    "    [1, 2, 1],\n",
    "    [0, 1, 0],\n",
    "    [2, 3, 4]\n",
    "])\n",
    "\n",
    "print(f\"Oringal array {original_rev_array}\")\n",
    "\n",
    "multi_array = np.multiply(original_rev_array, 2)\n",
    "print(f\"Multi array by 2 {multi_array}\")\n",
    "\n",
    "reverse_array = np.linalg.inv(original_rev_array)\n",
    "print(f\"Reverse of array \\n {reverse_array}\")"
   ]
  },
  {
   "cell_type": "code",
   "execution_count": 9,
   "id": "03ef9c03",
   "metadata": {},
   "outputs": [
    {
     "name": "stdout",
     "output_type": "stream",
     "text": [
      "Eigenvalues: \n",
      "[4. 3. 2.]\n",
      "\n",
      "Eigenvectors (columns correspond to eigenvalues)\n",
      "[[ 1.         -0.89442719 -0.72760688]\n",
      " [ 0.          0.4472136   0.48507125]\n",
      " [ 0.          0.          0.48507125]]\n"
     ]
    }
   ],
   "source": [
    "# exercise 8 - Eigenvalues and eigenvectors\n",
    "data_matrix = np.array([\n",
    "    [4, 2, 1],\n",
    "    [0, 3, -1],\n",
    "    [0, 0, 2]\n",
    "])\n",
    "\n",
    "eigenvalues, eigenvectors = np.linalg.eig(data_matrix)\n",
    "\n",
    "print(\"Eigenvalues: \")\n",
    "print(eigenvalues)\n",
    "\n",
    "print(\"\\nEigenvectors (columns correspond to eigenvalues)\")\n",
    "print(eigenvectors)"
   ]
  },
  {
   "cell_type": "code",
   "execution_count": 13,
   "id": "ec9da000",
   "metadata": {},
   "outputs": [
    {
     "name": "stdout",
     "output_type": "stream",
     "text": [
      "[ 1.  2. nan  4.]\n",
      "[False False  True False]\n"
     ]
    }
   ],
   "source": [
    "# exercise - Find missing values\n",
    "array_mis = np.array([1.0 ,2.0, np.nan, 4.0])\n",
    "print(array_mis)\n",
    "\n",
    "is_nan_mask = np.isnan(array_mis)\n",
    "print(is_nan_mask)"
   ]
  },
  {
   "cell_type": "code",
   "execution_count": 14,
   "id": "64291e59",
   "metadata": {},
   "outputs": [
    {
     "name": "stdout",
     "output_type": "stream",
     "text": [
      "[1. 2. 0. 4. 0.]\n"
     ]
    }
   ],
   "source": [
    "# exercise 10 - Replace missing values\n",
    "array_replace = np.array([1.0, 2.0, np.nan, 4.0, np.nan])\n",
    "\n",
    "filled_array_replace = np.nan_to_num(array_replace, nan=0.0)\n",
    "print(filled_array_replace)"
   ]
  }
 ],
 "metadata": {
  "kernelspec": {
   "display_name": ".venv",
   "language": "python",
   "name": "python3"
  },
  "language_info": {
   "codemirror_mode": {
    "name": "ipython",
    "version": 3
   },
   "file_extension": ".py",
   "mimetype": "text/x-python",
   "name": "python",
   "nbconvert_exporter": "python",
   "pygments_lexer": "ipython3",
   "version": "3.12.10"
  }
 },
 "nbformat": 4,
 "nbformat_minor": 5
}
