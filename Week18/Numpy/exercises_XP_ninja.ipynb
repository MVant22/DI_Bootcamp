{
 "cells": [
  {
   "cell_type": "code",
   "execution_count": 1,
   "id": "620dec9b",
   "metadata": {},
   "outputs": [
    {
     "name": "stdout",
     "output_type": "stream",
     "text": [
      "[[0 1 0 1 0 1 0 1]\n",
      " [0 1 0 1 0 1 0 1]\n",
      " [0 1 0 1 0 1 0 1]\n",
      " [0 1 0 1 0 1 0 1]\n",
      " [0 1 0 1 0 1 0 1]\n",
      " [0 1 0 1 0 1 0 1]\n",
      " [0 1 0 1 0 1 0 1]\n",
      " [0 1 0 1 0 1 0 1]]\n"
     ]
    }
   ],
   "source": [
    "# exercise 1\n",
    "import numpy as np\n",
    "\n",
    "base_pattern = np.array([[0,1],\n",
    "                         [0,1]])\n",
    "\n",
    "checkerboard_matrix = np.tile(base_pattern, (4, 4))\n",
    "\n",
    "print(checkerboard_matrix)\n"
   ]
  },
  {
   "cell_type": "code",
   "execution_count": 4,
   "id": "131b17be",
   "metadata": {},
   "outputs": [
    {
     "name": "stdout",
     "output_type": "stream",
     "text": [
      "int32\n"
     ]
    }
   ],
   "source": [
    "# exercise 2\n",
    "array_2d = np.array([[2, 4, 6], [6, 8, 10]], np.int32)\n",
    "\n",
    "print(array_2d.dtype)"
   ]
  },
  {
   "cell_type": "code",
   "execution_count": 6,
   "id": "1c4df968",
   "metadata": {},
   "outputs": [
    {
     "name": "stdout",
     "output_type": "stream",
     "text": [
      "Array 1 [[0.48720708 0.54335209 0.73708739]\n",
      " [0.88674714 0.97979782 0.92982223]\n",
      " [0.0455669  0.68290883 0.70155322]\n",
      " [0.81538041 0.41995497 0.12145948]\n",
      " [0.92969212 0.23054972 0.78543004]]\n",
      "\n",
      "Array 2 [[0.4810974  0.11138878]\n",
      " [0.41043124 0.3353631 ]\n",
      " [0.05441997 0.49045729]]\n",
      "\n",
      "multiply array [[0.49751501 0.59799953]\n",
      " [0.87935228 0.88339981]\n",
      " [0.34038775 0.57817996]\n",
      " [0.57124986 0.29123232]\n",
      " [0.58464035 0.56609503]]\n"
     ]
    }
   ],
   "source": [
    "# exercise 3\n",
    "array1 = np.random.random((5, 3))\n",
    "print(f\"Array 1 {array1}\")\n",
    "print()\n",
    "\n",
    "array2 = np.random.random((3, 2))\n",
    "print(f\"Array 2 {array2}\")\n",
    "print()\n",
    "\n",
    "mul_array = np.dot(array1, array2)\n",
    "\n",
    "print(f\"multiply array {mul_array}\")\n"
   ]
  },
  {
   "cell_type": "code",
   "execution_count": 8,
   "id": "f9c8d72c",
   "metadata": {},
   "outputs": [
    {
     "name": "stdout",
     "output_type": "stream",
     "text": [
      "[ 1  2 -3 -4 -5 -6 -7  8  9]\n"
     ]
    }
   ],
   "source": [
    "# exercise 4\n",
    "\n",
    "arr = np.array([1, 2, 3, 4, 5, 6, 7, 8, 9])\n",
    "arr[(arr > 2) & (arr < 8)] *= -1\n",
    "print(arr)"
   ]
  },
  {
   "cell_type": "code",
   "execution_count": 9,
   "id": "c151b2bd",
   "metadata": {},
   "outputs": [
    {
     "name": "stdout",
     "output_type": "stream",
     "text": [
      "[3 4]\n"
     ]
    }
   ],
   "source": [
    "# exercise 5\n",
    "array_1 = np.array([1, 2, 3, 4])\n",
    "array_2 = np.array([3, 4, 5, 6])\n",
    "\n",
    "array_common = np.intersect1d(array_1, array_2)\n",
    "print(array_common)"
   ]
  },
  {
   "cell_type": "code",
   "execution_count": null,
   "id": "8ed35b89",
   "metadata": {},
   "outputs": [
    {
     "name": "stdout",
     "output_type": "stream",
     "text": [
      "{'divide': 'ignore', 'over': 'ignore', 'under': 'ignore', 'invalid': 'ignore'}\n"
     ]
    }
   ],
   "source": [
    "# exercises 6\n",
    "aa = np.seterr(all='ignore')\n",
    "print(aa)"
   ]
  },
  {
   "cell_type": "code",
   "execution_count": 19,
   "id": "a85825e2",
   "metadata": {},
   "outputs": [
    {
     "name": "stdout",
     "output_type": "stream",
     "text": [
      "[[ 7  8  9]\n",
      " [ 4  5  6]\n",
      " [ 1  2  3]\n",
      " [10 11 12]]\n"
     ]
    }
   ],
   "source": [
    "# exercise 7 \n",
    "array_swap = np.array([\n",
    "    [1, 2, 3], \n",
    "    [4, 5, 6],\n",
    "    [7, 8, 9],\n",
    "    [10, 11, 12]\n",
    "])\n",
    "\n",
    "array_swap[[0, 2]] = array_swap[[2, 0]]\n",
    "print(array_swap)"
   ]
  },
  {
   "cell_type": "code",
   "execution_count": 27,
   "id": "9d23fa74",
   "metadata": {},
   "outputs": [
    {
     "name": "stdout",
     "output_type": "stream",
     "text": [
      "Today date 2025-07-12\n",
      "Yesterday date 2025-07-11\n",
      "Tomorrow date 2025-07-13\n"
     ]
    }
   ],
   "source": [
    "# exercise 8\n",
    "today_date = np.datetime64('today', 'D')\n",
    "yesterday_date = today_date - np.timedelta64(1, 'D')\n",
    "tomorrow_date = today_date + np.timedelta64(1, 'D')\n",
    "print(f\"Today date {today_date}\")\n",
    "print(f\"Yesterday date {yesterday_date}\")\n",
    "print(f\"Tomorrow date {tomorrow_date}\")"
   ]
  },
  {
   "cell_type": "code",
   "execution_count": 38,
   "id": "324afb15",
   "metadata": {},
   "outputs": [
    {
     "name": "stdout",
     "output_type": "stream",
     "text": [
      "March, 2023\n",
      "['2023-08-01' '2023-08-02' '2023-08-03' '2023-08-04' '2023-08-05'\n",
      " '2023-08-06' '2023-08-07' '2023-08-08' '2023-08-09' '2023-08-10'\n",
      " '2023-08-11' '2023-08-12' '2023-08-13' '2023-08-14' '2023-08-15'\n",
      " '2023-08-16' '2023-08-17' '2023-08-18' '2023-08-19' '2023-08-20'\n",
      " '2023-08-21' '2023-08-22' '2023-08-23' '2023-08-24' '2023-08-25'\n",
      " '2023-08-26' '2023-08-27' '2023-08-28' '2023-08-29' '2023-08-30'\n",
      " '2023-08-31']\n"
     ]
    }
   ],
   "source": [
    "# exercise 9\n",
    "print(\"March, 2023\")\n",
    "print(np.arange('2023-08', '2023-09', dtype='datetime64[D]'))\n"
   ]
  },
  {
   "cell_type": "code",
   "execution_count": 45,
   "id": "0d2f439b",
   "metadata": {},
   "outputs": [
    {
     "name": "stdout",
     "output_type": "stream",
     "text": [
      "[1 2 3 4 5]\n",
      "[1. 2. 3. 4. 5.]\n",
      "[1. 2. 3. 4. 5.]\n",
      "[2. 3. 4. 5. 6.]\n"
     ]
    }
   ],
   "source": [
    "# exercise 10\n",
    "array_decimal = np.array([1.5, 2.7, 3.4, 4.6, 5.9])\n",
    "\n",
    "array_integer_int = array_decimal.astype(int)\n",
    "print(array_integer_int)\n",
    "\n",
    "array_integer_floor = np.floor(array_decimal)\n",
    "print(array_integer_floor)\n",
    "\n",
    "array_integer_truc = np.trunc(array_decimal)\n",
    "print(array_integer_truc)\n",
    "\n",
    "array_integer_ceil = np.ceil(array_decimal)\n",
    "print(array_integer_ceil)\n"
   ]
  },
  {
   "cell_type": "code",
   "execution_count": null,
   "id": "ed8956a1",
   "metadata": {},
   "outputs": [
    {
     "name": "stdout",
     "output_type": "stream",
     "text": [
      "index of minimum in 1D array : 0\n",
      "[0 1 0]\n"
     ]
    }
   ],
   "source": [
    "# Exercise 11\n",
    "array_1D_scalar = np.array([1, 2, 3, 4, 5])\n",
    "index_min_1D_scalar = np.argmin(array_1D_scalar)\n",
    "print(f\"index of minimum in 1D array : {index_min_1D_scalar}\")\n",
    "\n",
    "array_2D_scalar = np.array([[10, 20, 5], [30, 1, 40]])\n",
    "index_min_2D_scalar = np.argmin(array_2D_scalar, axis=0)\n",
    "print(index_min_2D_scalar)"
   ]
  },
  {
   "cell_type": "code",
   "execution_count": 5,
   "id": "c5a4bf29",
   "metadata": {},
   "outputs": [
    {
     "name": "stdout",
     "output_type": "stream",
     "text": [
      "Index: (0, 0), Value: 1\n",
      "Index: (0, 1), Value: 2\n",
      "Index: (0, 2), Value: 3\n",
      "Index: (1, 0), Value: 4\n",
      "Index: (1, 1), Value: 5\n",
      "Index: (1, 2), Value: 6\n"
     ]
    }
   ],
   "source": [
    "# exercise 12\n",
    "array_emu = np.array([[1, 2, 3], [4, 5, 6]])\n",
    "\n",
    "for index , value in np.ndenumerate(array_emu):\n",
    "    print(f\"Index: {index}, Value: {value}\")"
   ]
  },
  {
   "cell_type": "code",
   "execution_count": 8,
   "id": "73dfeac3",
   "metadata": {},
   "outputs": [
    {
     "name": "stdout",
     "output_type": "stream",
     "text": [
      "Orginal array\n",
      "New array [100  20  30 200  50]\n"
     ]
    }
   ],
   "source": [
    "# exercise 13\n",
    "\n",
    "array_input = np.array([10, 20, 30, 40, 50])\n",
    "print(\"Orginal array\")\n",
    "\n",
    "np.put(array_input, [0,3], [100, 200])\n",
    "print(f\"New array {array_input}\")"
   ]
  },
  {
   "cell_type": "code",
   "execution_count": 9,
   "id": "f70ff256",
   "metadata": {},
   "outputs": [
    {
     "name": "stdout",
     "output_type": "stream",
     "text": [
      "40\n",
      "35\n"
     ]
    }
   ],
   "source": [
    "# exercise 14\n",
    "\n",
    "array_near = np.array([10, 25, 35, 50, 80])\n",
    "target = 40\n",
    "\n",
    "nearest_index = np.argmin(np.abs(array_near - target))\n",
    "nearest_value = array_near[nearest_index]\n",
    "\n",
    "print(target)\n",
    "print(nearest_value)"
   ]
  },
  {
   "cell_type": "code",
   "execution_count": 10,
   "id": "8817d1de",
   "metadata": {},
   "outputs": [
    {
     "name": "stdout",
     "output_type": "stream",
     "text": [
      "[[[1 3]\n",
      "  [0 1]]\n",
      "\n",
      " [[2 0]\n",
      "  [3 2]]]\n"
     ]
    }
   ],
   "source": [
    "# exercise 15\n",
    "array = np.array([\n",
    "    [[[1, 5, 3, 2],\n",
    "      [4, 2, 1, 7]],\n",
    "\n",
    "     [[9, 0, 6, 4],\n",
    "      [3, 8, 2, 5]]],\n",
    "\n",
    "    [[[0, 3, 5, 1],\n",
    "      [7, 2, 4, 6]],\n",
    "\n",
    "     [[8, 1, 0, 9],\n",
    "      [5, 3, 7, 2]]]\n",
    "])\n",
    "\n",
    "result = np.argmax(array, axis=-1)\n",
    "print(result)"
   ]
  },
  {
   "cell_type": "markdown",
   "id": "b9637c05",
   "metadata": {},
   "source": []
  },
  {
   "cell_type": "code",
   "execution_count": null,
   "id": "7f7efa98",
   "metadata": {},
   "outputs": [],
   "source": [
    "# exercise 16\n",
    "import matplotlib.pyplot as plt"
   ]
  }
 ],
 "metadata": {
  "kernelspec": {
   "display_name": ".venv",
   "language": "python",
   "name": "python3"
  },
  "language_info": {
   "codemirror_mode": {
    "name": "ipython",
    "version": 3
   },
   "file_extension": ".py",
   "mimetype": "text/x-python",
   "name": "python",
   "nbconvert_exporter": "python",
   "pygments_lexer": "ipython3",
   "version": "3.12.10"
  }
 },
 "nbformat": 4,
 "nbformat_minor": 5
}
