{
 "cells": [
  {
   "cell_type": "code",
   "execution_count": 8,
   "id": "46bdc839",
   "metadata": {},
   "outputs": [
    {
     "name": "stdout",
     "output_type": "stream",
     "text": [
      "[[[0.00134439 0.69000903 0.18670312]\n",
      "  [0.39071196 0.61184681 0.35538844]\n",
      "  [0.45841861 0.33282843 0.46305657]]\n",
      "\n",
      " [[0.92949628 0.86730612 0.41075252]\n",
      "  [0.50391982 0.8604149  0.66695073]\n",
      "  [0.90924386 0.68123702 0.76743716]]\n",
      "\n",
      " [[0.94703418 0.77914438 0.83082733]\n",
      "  [0.3287649  0.12968429 0.09051011]\n",
      "  [0.27452644 0.09762638 0.79976743]]]\n",
      "Min value int8 <built-in method min of numpy.ndarray object at 0x0000019B1967E430>\n",
      "Min value int8 <built-in method max of numpy.ndarray object at 0x0000019B1967E430>\n"
     ]
    }
   ],
   "source": [
    "import numpy as np\n",
    "# 1 Create a 3x3x3 array with random values using np.random.random()\n",
    "array_3d = np.random.random((3, 3, 3))\n",
    "print(array_3d)\n",
    "print(f\"Min value int8 {array_3d.min}\")\n",
    "print(f\"Min value int8 {array_3d.max}\")"
   ]
  },
  {
   "cell_type": "code",
   "execution_count": null,
   "id": "12e04db9",
   "metadata": {},
   "outputs": [
    {
     "name": "stdout",
     "output_type": "stream",
     "text": [
      "[0.6463323  0.70168265 0.34309242 0.22894592 0.09627194 0.65953036\n",
      " 0.63365826 0.56643201 0.21926639 0.92328904 0.367058   0.99809281\n",
      " 0.89291127 0.97843915 0.94164267 0.71757926 0.34934609 0.72398919\n",
      " 0.53298737 0.76329397 0.21196888 0.39464464 0.09771931 0.98199784\n",
      " 0.87499013 0.06176129 0.16748285 0.35299123 0.78483846 0.40826508]\n",
      "0.5540166923738056\n"
     ]
    }
   ],
   "source": [
    "# 3 Create a random vector of size 30 and find the mean* value.\n",
    "array_30 = np.random.random(30)\n",
    "array_30_mean = np.mean(array_30)\n",
    "print(array_30)\n",
    "print(array_30_mean)"
   ]
  },
  {
   "cell_type": "code",
   "execution_count": 11,
   "id": "e82bc4c6",
   "metadata": {},
   "outputs": [
    {
     "name": "stdout",
     "output_type": "stream",
     "text": [
      "[[1. 1. 1. 1. 1.]\n",
      " [1. 0. 0. 0. 1.]\n",
      " [1. 0. 0. 0. 1.]\n",
      " [1. 0. 0. 0. 1.]\n",
      " [1. 1. 1. 1. 1.]]\n"
     ]
    }
   ],
   "source": [
    "# 4 Create a 2d array with 1 on the border and 0 inside (Hint: Use np.ones() and slicing).\n",
    "array_x = np.ones((5, 5))\n",
    "\n",
    "array_x[1:-1, 1:-1] = 0\n",
    "\n",
    "print(array_x)"
   ]
  },
  {
   "cell_type": "code",
   "execution_count": 12,
   "id": "ad7ea6f4",
   "metadata": {},
   "outputs": [
    {
     "name": "stdout",
     "output_type": "stream",
     "text": [
      "[[0. 0. 0. 0. 0.]\n",
      " [0. 1. 1. 1. 0.]\n",
      " [0. 1. 1. 1. 0.]\n",
      " [0. 1. 1. 1. 0.]\n",
      " [0. 0. 0. 0. 0.]]\n"
     ]
    }
   ],
   "source": [
    "# Add a border (filled with 0’s) around an existing array using np.pad()\n",
    "array = np.ones((3,3))\n",
    "\n",
    "array_border_0 = np.pad(array, pad_width=1, mode='constant', constant_values=0)\n",
    "print(array_border_0)"
   ]
  },
  {
   "cell_type": "code",
   "execution_count": 16,
   "id": "875e05ed",
   "metadata": {},
   "outputs": [
    {
     "name": "stdout",
     "output_type": "stream",
     "text": [
      "[0 1 2 3 4 5]\n",
      "[ 0 -1  2 -1  4 -1]\n"
     ]
    }
   ],
   "source": [
    "# Replace all odd numbers in an array with -1 without changing the original array.\n",
    "original = np.array([0, 1, 2, 3, 4, 5])\n",
    "\n",
    "modified = original.copy()\n",
    "modified[modified % 2 == 1] = -1\n",
    "\n",
    "print(original)\n",
    "print(modified)"
   ]
  },
  {
   "cell_type": "code",
   "execution_count": 19,
   "id": "feb526f5",
   "metadata": {},
   "outputs": [
    {
     "name": "stdout",
     "output_type": "stream",
     "text": [
      "[[1 0 0 0 0]\n",
      " [0 2 0 0 0]\n",
      " [0 0 3 0 0]\n",
      " [0 0 0 4 0]\n",
      " [0 0 0 0 7]]\n"
     ]
    }
   ],
   "source": [
    "# Create a 5x5 matrix with values 1,2,3,4,7 on the diagonal* using np.diag\n",
    "diagonal_elements = np.array([1, 2, 3, 4, 7])\n",
    "\n",
    "diagonal_matrix = np.diag(diagonal_elements)\n",
    "print(diagonal_matrix)\n"
   ]
  },
  {
   "cell_type": "code",
   "execution_count": 20,
   "id": "cdefac48",
   "metadata": {},
   "outputs": [
    {
     "name": "stdout",
     "output_type": "stream",
     "text": [
      "[[0 1 0 1 0 1 0 1]\n",
      " [1 0 1 0 1 0 1 0]\n",
      " [0 1 0 1 0 1 0 1]\n",
      " [1 0 1 0 1 0 1 0]\n",
      " [0 1 0 1 0 1 0 1]\n",
      " [1 0 1 0 1 0 1 0]\n",
      " [0 1 0 1 0 1 0 1]\n",
      " [1 0 1 0 1 0 1 0]]\n"
     ]
    }
   ],
   "source": [
    "# Create a 8x8 matrix and fill it with a checkerboard pattern using slicing\n",
    "check_board_array = np.ones((3,3))\n",
    "\n",
    "check_board = np.zeros((8,8), dtype=int)\n",
    "check_board[1::2, ::2] = 1\n",
    "check_board[::2, 1::2] = 1\n",
    "\n",
    "print(check_board)"
   ]
  },
  {
   "cell_type": "code",
   "execution_count": 21,
   "id": "607f64a1",
   "metadata": {},
   "outputs": [
    {
     "name": "stdout",
     "output_type": "stream",
     "text": [
      "(np.int64(1), np.int64(5), np.int64(4))\n"
     ]
    }
   ],
   "source": [
    "# Given a (6,7,8) shape array, what is the index (x,y,z) of the 100th element? Use np.unravel_index.\n",
    "index = np.unravel_index(100, (6, 7, 8))\n",
    "print(index)"
   ]
  },
  {
   "cell_type": "code",
   "execution_count": 22,
   "id": "0beea1c8",
   "metadata": {},
   "outputs": [
    {
     "name": "stdout",
     "output_type": "stream",
     "text": [
      "[[0.85247119 0.937504   0.14508323 0.89782494 0.32086495]\n",
      " [0.15153932 1.         0.05503183 0.33715088 0.79392003]\n",
      " [0.92167062 0.65848675 0.03180974 0.65872684 0.9269956 ]\n",
      " [0.00247589 0.         0.07025173 0.23887344 0.55767052]\n",
      " [0.75851837 0.90234168 0.33539044 0.8102154  0.70397591]]\n"
     ]
    }
   ],
   "source": [
    "# Normalize* a 5x5 random matrix. The normalization formula is (matrix - matrix.min()) / (matrix.max() - matrix.min())\n",
    "matrix = np.random.rand(5, 5)\n",
    "\n",
    "matrix_min = matrix.min()\n",
    "matrix_max = matrix.max()\n",
    "\n",
    "normalized_matrix = (matrix - matrix.min()) / (matrix.max() - matrix.min())\n",
    "\n",
    "print(normalized_matrix)"
   ]
  },
  {
   "cell_type": "code",
   "execution_count": 25,
   "id": "7c6e39a9",
   "metadata": {},
   "outputs": [
    {
     "name": "stdout",
     "output_type": "stream",
     "text": [
      "[[1 2 3]\n",
      " [4 5 6]\n",
      " [1 2 3]\n",
      " [7 8 9]\n",
      " [4 5 6]]\n",
      "\n",
      "[[1 2 3]\n",
      " [4 5 6]\n",
      " [7 8 9]]\n"
     ]
    }
   ],
   "source": [
    "# Given a two-dimensional array, extract unique rows. You can use np.unique with the axis argument.\n",
    "arr = np.array([[1, 2, 3],\n",
    "                [4, 5, 6],\n",
    "                [1, 2, 3],\n",
    "                [7, 8, 9],\n",
    "                [4, 5, 6]])\n",
    "print(arr)\n",
    "print()\n",
    "unique_rows = np.unique(arr, axis=0)\n",
    "print(unique_rows)"
   ]
  },
  {
   "cell_type": "code",
   "execution_count": 26,
   "id": "b032aa45",
   "metadata": {},
   "outputs": [
    {
     "name": "stdout",
     "output_type": "stream",
     "text": [
      "[((1. , 2. ), (255,   0,   0)) ((3.5, 4.5), (  0, 255,   0))\n",
      " ((5. , 6. ), (  0,   0, 255))]\n"
     ]
    }
   ],
   "source": [
    "# Create a structured array* representing a position (x,y) and a color (r,g,b). Use np.dtype to create a custom dtype for this task.\n",
    "\n",
    "# Define a custom dtype for position (x, y) and color (r, g, b)\n",
    "position_color_dtype = np.dtype([\n",
    "    ('position', [('x', 'f4'), ('y', 'f4')]),  # float32 for position\n",
    "    ('color',    [('r', 'u1'), ('g', 'u1'), ('b', 'u1')])  # uint8 for color (0–255)\n",
    "])\n",
    "\n",
    "# Create a structured array with 3 elements as an example\n",
    "data = np.array([\n",
    "    ((1.0, 2.0), (255, 0, 0)),\n",
    "    ((3.5, 4.5), (0, 255, 0)),\n",
    "    ((5.0, 6.0), (0, 0, 255))\n",
    "], dtype=position_color_dtype)\n",
    "\n",
    "# Print the structured array\n",
    "print(data)"
   ]
  },
  {
   "cell_type": "code",
   "execution_count": 28,
   "id": "1291e8c0",
   "metadata": {},
   "outputs": [
    {
     "name": "stdout",
     "output_type": "stream",
     "text": [
      "[51 72 33  4  5]\n"
     ]
    }
   ],
   "source": [
    "# How to accumulate elements of a vector (X) to an array (F) based on an index list (I)? Use np.add.at. This method performs unbuffered* in place operation on operand ‘a’ for elements specified by ‘indices’.\n",
    "\n",
    "F = np.array([1, 2, 3, 4, 5])\n",
    "I = np.array([0, 1, 2, 0, 1])\n",
    "X = np.array([10, 20, 30, 40, 50])\n",
    "\n",
    "np.add.at(F, I, X)\n",
    "print(F)"
   ]
  },
  {
   "cell_type": "code",
   "execution_count": 29,
   "id": "fbe786b9",
   "metadata": {},
   "outputs": [
    {
     "name": "stdout",
     "output_type": "stream",
     "text": [
      "[[ 190  590  990]\n",
      " [1390 1790 2190]]\n"
     ]
    }
   ],
   "source": [
    "# Considering a four dimensions array, how to get sum over the last two axis at once? Use np.sum with axis=(-2,-1)\n",
    "\n",
    "arr_sum = np.arange(120).reshape(2,3,4,5)\n",
    "\n",
    "array_sum = np.sum(arr_sum, axis=(-2,-1))\n",
    "print(array_sum)"
   ]
  },
  {
   "cell_type": "code",
   "execution_count": 32,
   "id": "5178d039",
   "metadata": {},
   "outputs": [
    {
     "name": "stdout",
     "output_type": "stream",
     "text": [
      "[19 50]\n"
     ]
    }
   ],
   "source": [
    "# How to get the diagonal of a dot product? Use np.diag and np.dot\n",
    "array1 = np.array([[1, 2], [3, 4]])\n",
    "array2 = np.array([[5, 6], [7, 8]])\n",
    "\n",
    "diagonal_of_dot_product = np.diag(np.dot(array1, array2))\n",
    "\n",
    "print(diagonal_of_dot_product)"
   ]
  },
  {
   "cell_type": "code",
   "execution_count": 35,
   "id": "ad8b2851",
   "metadata": {},
   "outputs": [
    {
     "name": "stdout",
     "output_type": "stream",
     "text": [
      "Original array:\n",
      "[1 2 3 4 5]\n",
      "\n",
      "New array:\n",
      "[1. 0. 0. 2. 0. 0. 3. 0. 0. 4. 0. 0. 5.]\n"
     ]
    }
   ],
   "source": [
    "# Consider the vector [1, 2, 3, 4, 5], how to build a new vector with 3 consecutive zeros interleaved between each value?\n",
    "# This involves use of np.zeros and array indexing.\n",
    "\n",
    "interval_array = np.array([1, 2, 3, 4, 5])\n",
    "\n",
    "# Displaying the original array 'nums'\n",
    "print(\"Original array:\")\n",
    "print(interval_array)\n",
    "\n",
    "# Variable 'p' set to 2\n",
    "p = 2\n",
    "\n",
    "# Creating a new array 'new_nums' of length len(nums) + (len(nums) - 1) * p filled with zeros\n",
    "new_nums = np.zeros(len(interval_array) + (len(interval_array) - 1) * (p))\n",
    "\n",
    "# Filling the 'new_nums' array with elements from 'nums' at intervals of (p + 1)\n",
    "new_nums[::p + 1] = interval_array\n",
    "\n",
    "# Displaying the new array 'new_nums'\n",
    "print(\"\\nNew array:\")\n",
    "print(new_nums)"
   ]
  },
  {
   "cell_type": "code",
   "execution_count": 36,
   "id": "7c62f9fe",
   "metadata": {},
   "outputs": [
    {
     "name": "stdout",
     "output_type": "stream",
     "text": [
      "Sliding window averages: [2. 3. 4. 5. 6.]\n"
     ]
    }
   ],
   "source": [
    "# How to compute averages using a sliding window over an array? \n",
    "# This involves some manipulation of array indexing and arithmetic operations. \n",
    "# Essentially, you would compute a cumulative sum* and then subtract the sum at \n",
    "# the beginning of the window from each element.\n",
    "\n",
    "def sliding_window_avg(arr, window_size):\n",
    "    # Compute cumulative sum, padded with a 0 at the start\n",
    "    cumsum = np.cumsum(np.insert(arr, 0, 0))  # insert 0 to align window starts\n",
    "    \n",
    "    # Compute window sums using differences in cumsum\n",
    "    window_sums = cumsum[window_size:] - cumsum[:-window_size]\n",
    "    \n",
    "    # Compute average\n",
    "    return window_sums / window_size\n",
    "\n",
    "# Example usage\n",
    "arr = np.array([1, 2, 3, 4, 5, 6, 7])\n",
    "window_size = 3\n",
    "result = sliding_window_avg(arr, window_size)\n",
    "\n",
    "print(\"Sliding window averages:\", result)"
   ]
  },
  {
   "cell_type": "code",
   "execution_count": 37,
   "id": "729fe947",
   "metadata": {},
   "outputs": [
    {
     "name": "stdout",
     "output_type": "stream",
     "text": [
      "Valid multinomial rows:\n",
      " [[2. 3. 5.]\n",
      " [4. 4. 2.]]\n"
     ]
    }
   ],
   "source": [
    "# Given an integer n and a 2D array X, select from X the rows which can be interpreted as draws \n",
    "# from a multinomial distribution* with n degrees, i.e., the rows which only contain integers and which sum to n. \n",
    "# This involves understanding of multinomial distribution.\n",
    "\n",
    "def valid_multinomial_rows(X, n):\n",
    "    # Condition 1: All elements are integers (no decimal part)\n",
    "    is_integer = np.all(np.mod(X, 1) == 0, axis=1)\n",
    "    \n",
    "    # Condition 2: Each row must sum to n\n",
    "    has_sum_n = np.sum(X, axis=1) == n\n",
    "    \n",
    "    # Both conditions\n",
    "    valid = np.logical_and(is_integer, has_sum_n)\n",
    "    \n",
    "    # Return only valid rows\n",
    "    return X[valid]\n",
    "\n",
    "# Example\n",
    "X = np.array([\n",
    "    [2, 3, 5],\n",
    "    [1.5, 2, 6.5],\n",
    "    [4, 4, 2],\n",
    "    [3, 3, 3]\n",
    "])\n",
    "n = 10\n",
    "\n",
    "result = valid_multinomial_rows(X, n)\n",
    "print(\"Valid multinomial rows:\\n\", result)"
   ]
  },
  {
   "cell_type": "code",
   "execution_count": 38,
   "id": "8bd79ab6",
   "metadata": {},
   "outputs": [
    {
     "name": "stdout",
     "output_type": "stream",
     "text": [
      "Bootstrapped 95% CI for mean: (3.60, 8.40)\n"
     ]
    }
   ],
   "source": [
    "# Compute bootstrapped 95% confidence intervals* for the mean of a 1D array X (i.e., resample the elements \n",
    "# of an array with replacement N times, compute the mean of each sample, \n",
    "# and then compute percentiles over the means). Use np.percentile.\n",
    "def bootstrap_ci_mean(X, N=1000, ci=95):\n",
    "    means = []\n",
    "    for _ in range(N):\n",
    "        # Resample with replacement\n",
    "        sample = np.random.choice(X, size=len(X), replace=True)\n",
    "        means.append(np.mean(sample))\n",
    "    \n",
    "    # Compute confidence interval percentiles\n",
    "    lower = np.percentile(means, (100 - ci) / 2)\n",
    "    upper = np.percentile(means, 100 - (100 - ci) / 2)\n",
    "    \n",
    "    return lower, upper\n",
    "\n",
    "# Example usage\n",
    "X = np.array([2, 4, 6, 8, 10])\n",
    "ci_lower, ci_upper = bootstrap_ci_mean(X)\n",
    "\n",
    "print(f\"Bootstrapped 95% CI for mean: ({ci_lower:.2f}, {ci_upper:.2f})\")"
   ]
  }
 ],
 "metadata": {
  "kernelspec": {
   "display_name": ".venv",
   "language": "python",
   "name": "python3"
  },
  "language_info": {
   "codemirror_mode": {
    "name": "ipython",
    "version": 3
   },
   "file_extension": ".py",
   "mimetype": "text/x-python",
   "name": "python",
   "nbconvert_exporter": "python",
   "pygments_lexer": "ipython3",
   "version": "3.12.10"
  }
 },
 "nbformat": 4,
 "nbformat_minor": 5
}
