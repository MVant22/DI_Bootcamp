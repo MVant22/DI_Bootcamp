{
 "cells": [
  {
   "cell_type": "code",
   "execution_count": null,
   "id": "d7cefc0b",
   "metadata": {},
   "outputs": [],
   "source": [
    "# Exercise_XP_2\n",
    "import pandas as pd\n",
    "\n",
    "url = 'https://raw.githubusercontent.com/justmarkham/DAT8/master/data/chipotle.tsv'\n",
    "chipo = pd.read_csv(url, sep='\\t')\n",
    "\n",
    "chipo['item_price'] = chipo['item_price'].str.replace('$', '').astype(float)\n",
    "\n",
    "products_over_10 = chipo[chipo['item_price'] > 10]\n",
    "\n",
    "count_over_10 = products_over_10.shape[0]\n",
    "\n",
    "print(count_over_10)\n",
    "\n",
    "# Exercise_XP_Ninja\n",
    "\n",
    "# Begin by importing the necessary libraries and loading the Chipotle data from XP (named ‘chipo’) into a DataFrame.\n",
    "import matplotlib.pyplot as plt\n",
    "\n",
    "# Review the first 10 entries of ‘chipo’ with the head() function\n",
    "print(chipo.head(10))\n",
    "\n",
    "# Create a histogram of the top 5 items bought using the ‘item_name’ column from ‘chipo’,\n",
    "# applying value_counts() and plot() methods.\n",
    "count = chipo['item_name'].value_counts().head(5)\n",
    "print(count)\n",
    "\n",
    "count.plot(kind='bar')\n",
    "plt.title('Frequency of Categories')\n",
    "plt.xlabel('Category')\n",
    "plt.ylabel('Count')\n",
    "plt.show()\n",
    "\n",
    "# Using the ‘quantity’ and ‘item_price’ columns from ‘chipo’,\n",
    "# create a scatter plot to represent the number of items ordered per order price.\n",
    "# Use matplotlib’s scatter() function for this.\n",
    "plt.figure(figsize=(10, 6))\n",
    "plt.scatter(chipo['item_price'], chipo['quantity'], alpha=0.5, color='green')\n",
    "\n",
    "plt.title('Scatter Plot: Quantity vs Item Price')\n",
    "plt.xlabel('Item Price ($)')\n",
    "plt.ylabel('Quantity Ordered')\n",
    "plt.tight_layout()\n",
    "plt.show()\n",
    "\n",
    "\n",
    "\n",
    "\n"
   ]
  }
 ],
 "metadata": {
  "language_info": {
   "name": "python"
  }
 },
 "nbformat": 4,
 "nbformat_minor": 5
}
