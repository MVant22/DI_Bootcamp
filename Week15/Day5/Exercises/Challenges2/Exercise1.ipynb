{
 "cells": [
  {
   "cell_type": "code",
   "execution_count": null,
   "id": "93e3f074",
   "metadata": {},
   "outputs": [
    {
     "name": "stdout",
     "output_type": "stream",
     "text": [
      "  *\n",
      " ***\n",
      "*****\n"
     ]
    }
   ],
   "source": [
    "# Exercise 1.1\n",
    "rows = 3\n",
    "for i in range(rows):\n",
    "    # Print spaces\n",
    "    for j in range(rows - i - 1):\n",
    "        print(\" \", end=\"\")\n",
    "    # Print stars\n",
    "    for k in range(2 * i + 1):\n",
    "        print(\"*\", end=\"\")\n",
    "    # Move to next line\n",
    "    print()"
   ]
  },
  {
   "cell_type": "code",
   "execution_count": null,
   "id": "86285eab",
   "metadata": {},
   "outputs": [
    {
     "name": "stdout",
     "output_type": "stream",
     "text": [
      "    *\n",
      "   **\n",
      "  ***\n",
      " ****\n",
      "*****\n"
     ]
    }
   ],
   "source": [
    "# Exercise 1.2\n",
    "rows = 5\n",
    "for i in range(1, rows + 1):\n",
    "    # Print spaces\n",
    "    for j in range(rows - i):\n",
    "        print(\" \", end=\"\")\n",
    "    # Print stars\n",
    "    for k in range(i):\n",
    "        print(\"*\", end=\"\")\n",
    "    # Move to next line\n",
    "    print()"
   ]
  },
  {
   "cell_type": "code",
   "execution_count": null,
   "id": "52ad329d",
   "metadata": {},
   "outputs": [
    {
     "name": "stdout",
     "output_type": "stream",
     "text": [
      "*\n",
      "**\n",
      "***\n",
      "****\n",
      "*****\n",
      "*****\n",
      " ****\n",
      "  ***\n",
      "   **\n",
      "    *\n"
     ]
    }
   ],
   "source": [
    "# Exercise 1.3\n",
    "rows = 5\n",
    "\n",
    "# Increasing triangle (including the middle row)\n",
    "for i in range(1, rows + 1):\n",
    "    print(\"*\" * i)\n",
    "\n",
    "# Decreasing triangle with indentation\n",
    "for i in range(rows, 0, -1):\n",
    "    spaces = rows - i\n",
    "    print(\" \" * spaces + \"*\" * i)"
   ]
  },
  {
   "cell_type": "code",
   "execution_count": 5,
   "id": "e341c412",
   "metadata": {},
   "outputs": [
    {
     "name": "stdout",
     "output_type": "stream",
     "text": [
      "[2, 12, 24, 233, 354]\n"
     ]
    }
   ],
   "source": [
    "# Exercise 2\n",
    "\n",
    "# define my_list with a list of array length 5\n",
    "my_list = [2, 24, 12, 354, 233]\n",
    "# loop from length of array (5) to 1\n",
    "for i in range(len(my_list) - 1):\n",
    "    # define varaible minumum equal i\n",
    "    minimum = i\n",
    "    # Find the index of the smallest element in the unsorted part\n",
    "    for j in range( i + 1, len(my_list)):\n",
    "        # check if j smaller than minimum\n",
    "        if(my_list[j] < my_list[minimum]):\n",
    "            # if yes minimum equal j\n",
    "            minimum = j\n",
    "            # Swap outside the inner loop\n",
    "            if(minimum != i):\n",
    "                my_list[i], my_list[minimum] = my_list[minimum], my_list[i]\n",
    "print(my_list)"
   ]
  }
 ],
 "metadata": {
  "kernelspec": {
   "display_name": ".venv",
   "language": "python",
   "name": "python3"
  },
  "language_info": {
   "codemirror_mode": {
    "name": "ipython",
    "version": 3
   },
   "file_extension": ".py",
   "mimetype": "text/x-python",
   "name": "python",
   "nbconvert_exporter": "python",
   "pygments_lexer": "ipython3",
   "version": "3.12.10"
  }
 },
 "nbformat": 4,
 "nbformat_minor": 5
}
