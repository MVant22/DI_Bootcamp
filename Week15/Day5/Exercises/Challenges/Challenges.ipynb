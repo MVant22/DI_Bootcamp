{
 "cells": [
  {
   "cell_type": "code",
   "execution_count": null,
   "id": "9bedced5",
   "metadata": {},
   "outputs": [
    {
     "name": "stdout",
     "output_type": "stream",
     "text": [
      "[0, 1, 10, 2, 3, 4]\n"
     ]
    }
   ],
   "source": [
    "# Write a script that counts the number of spaces in a string\n",
    "\n",
    "my_list = [0, 1, 2, 3, 4]\n",
    "\n",
    "my_list.insert(2, 10)\n",
    "\n",
    "print(my_list)\n"
   ]
  },
  {
   "cell_type": "code",
   "execution_count": null,
   "id": "eff20f13",
   "metadata": {},
   "outputs": [
    {
     "name": "stdout",
     "output_type": "stream",
     "text": [
      "4\n"
     ]
    }
   ],
   "source": [
    "# Write a script that counts the number of spaces in a string.\n",
    "para = \"The name is Jean claude\"\n",
    "numberOfSpaces = para.count(' ')\n",
    "print(numberOfSpaces)"
   ]
  },
  {
   "cell_type": "code",
   "execution_count": 10,
   "id": "a2e63b16",
   "metadata": {},
   "outputs": [
    {
     "name": "stdout",
     "output_type": "stream",
     "text": [
      "Number of lowercase 5\n",
      "Number of uppercase 2\n"
     ]
    }
   ],
   "source": [
    "# Write a script that calculates the number of upper case letters and lower case letters in a string.\n",
    "phrase = \"The King\"\n",
    "\n",
    "lower = 0\n",
    "upper = 0\n",
    "\n",
    "for char in phrase:\n",
    "    if char.islower():\n",
    "        lower += 1\n",
    "    elif char.isupper():\n",
    "        upper += 1\n",
    "        \n",
    "print(f\"Number of lowercase {lower}\")\n",
    "print(f\"Number of uppercase {upper}\")"
   ]
  },
  {
   "cell_type": "code",
   "execution_count": 26,
   "id": "6ea51ed7",
   "metadata": {},
   "outputs": [
    {
     "name": "stdout",
     "output_type": "stream",
     "text": [
      "5.75\n"
     ]
    }
   ],
   "source": [
    "# Write a function to find the sum of an array without using the built in function\n",
    "def my_sum(arr):\n",
    "    total = 0\n",
    "\n",
    "    for i in arr:\n",
    "        total += i\n",
    "\n",
    "    average = total / len(arr)\n",
    "    \n",
    "    return average\n",
    "\n",
    "print(my_sum([2,5,7,9]))\n"
   ]
  },
  {
   "cell_type": "code",
   "execution_count": 23,
   "id": "49360096",
   "metadata": {},
   "outputs": [
    {
     "name": "stdout",
     "output_type": "stream",
     "text": [
      "50\n"
     ]
    }
   ],
   "source": [
    "# Write a function to find the max number in a list\n",
    "def find_max(arr):\n",
    "    maxNum = 0\n",
    "    \n",
    "    for i in arr:\n",
    "        if i > maxNum:\n",
    "            maxNum = i\n",
    "    \n",
    "    return maxNum\n",
    "    \n",
    "print(find_max([0,1,3,50]))"
   ]
  },
  {
   "cell_type": "code",
   "execution_count": 2,
   "id": "ff3ccca3",
   "metadata": {},
   "outputs": [
    {
     "name": "stdout",
     "output_type": "stream",
     "text": [
      "120\n"
     ]
    }
   ],
   "source": [
    "# Write a function that returns factorial of a number\n",
    "num = 5\n",
    "fact = 1\n",
    "\n",
    "for i in range(1, num+1):\n",
    "    fact *= i\n",
    "\n",
    "print(fact)"
   ]
  },
  {
   "cell_type": "code",
   "execution_count": null,
   "id": "86b4f5b4",
   "metadata": {},
   "outputs": [
    {
     "name": "stdout",
     "output_type": "stream",
     "text": [
      "4\n"
     ]
    }
   ],
   "source": [
    "# Write a function that counts an element in a list (without using the count method)\n",
    "def list_count(arr, *args):\n",
    "    count = 0\n",
    "    \n",
    "    for i in arr:\n",
    "        count += 1\n",
    "    \n",
    "    return count\n",
    "\n",
    "print(list_count(['a','a','t','o'],'a'))"
   ]
  },
  {
   "cell_type": "code",
   "execution_count": 7,
   "id": "36851d66",
   "metadata": {},
   "outputs": [
    {
     "name": "stdout",
     "output_type": "stream",
     "text": [
      "2.23606797749979\n"
     ]
    }
   ],
   "source": [
    "# Write a function that returns the L2-norm (square root of the sum of squares) of the sum of a list\n",
    "import math\n",
    "def norm(arr):\n",
    "    total = 0\n",
    "    \n",
    "    \n",
    "    for i in arr:\n",
    "        total += i\n",
    "    \n",
    "    sqaure_root = math.sqrt(total)\n",
    "    return sqaure_root\n",
    "\n",
    "print(norm([1,2,2]))\n",
    "    \n",
    "    "
   ]
  },
  {
   "cell_type": "code",
   "execution_count": 9,
   "id": "190577ec",
   "metadata": {},
   "outputs": [
    {
     "name": "stdout",
     "output_type": "stream",
     "text": [
      "True\n"
     ]
    }
   ],
   "source": [
    "# Write a function to find if an array is monotonic (sorted either ascending of descending)\n",
    "def is_mono(arr):\n",
    "    increasing = decreasing = True\n",
    "    \n",
    "    for i in range(1, len(arr)):\n",
    "        if arr[i] > arr[i-i]:\n",
    "            decreasing = False\n",
    "        if arr[i] < arr[i-1]:\n",
    "            increasing = False\n",
    "            \n",
    "    return increasing or decreasing\n",
    "\n",
    "print(is_mono([7,6,5,5,2,0]))"
   ]
  },
  {
   "cell_type": "code",
   "execution_count": 1,
   "id": "7b1cf0f8",
   "metadata": {},
   "outputs": [
    {
     "name": "stdout",
     "output_type": "stream",
     "text": [
      "11\n"
     ]
    }
   ],
   "source": [
    "# Write a function that prints the longest word in a list.\n",
    "a = [\"geeks\", \"for\", \"geeks\", \"programming\"]\n",
    "\n",
    "res = len(max(a, key=len))\n",
    "print(res)\n"
   ]
  },
  {
   "cell_type": "code",
   "execution_count": 7,
   "id": "63cd43d9",
   "metadata": {},
   "outputs": [
    {
     "name": "stdout",
     "output_type": "stream",
     "text": [
      "[1, 2]\n",
      "['apple', 'banana']\n"
     ]
    }
   ],
   "source": [
    "# Given a list of integers and strings, put all the integers in one list, and all the strings in another one.\n",
    "mixed_list = [\"apple\", 1, \"banana\", 2]\n",
    "integers_list = []\n",
    "string_list = []\n",
    "\n",
    "for i in mixed_list:\n",
    "    if isinstance(i, int):\n",
    "        integers_list.append(i)\n",
    "    else:\n",
    "        string_list.append(i)\n",
    "\n",
    "print(integers_list)\n",
    "print(string_list)"
   ]
  },
  {
   "cell_type": "code",
   "execution_count": 10,
   "id": "ece58205",
   "metadata": {},
   "outputs": [
    {
     "name": "stdout",
     "output_type": "stream",
     "text": [
      "False\n"
     ]
    }
   ],
   "source": [
    "# Write a function to check if a string is a palindrome\n",
    "def palindrome(str1):\n",
    "    palindrome_str = ''\n",
    "    \n",
    "    for i in str1[::-1]:\n",
    "        palindrome_str += i\n",
    "    \n",
    "    if str1 == palindrome_str:\n",
    "        return True\n",
    "    else:\n",
    "        return False\n",
    "    \n",
    "\n",
    "print(palindrome('John'))\n",
    "        "
   ]
  },
  {
   "cell_type": "code",
   "execution_count": 2,
   "id": "73336d62",
   "metadata": {},
   "outputs": [
    {
     "name": "stdout",
     "output_type": "stream",
     "text": [
      "2\n"
     ]
    }
   ],
   "source": [
    "# Write a function that returns the amount of words in a sentence with length > k\n",
    "\n",
    "def sum_over_k(sentence, k):\n",
    "    words = sentence.split()\n",
    "    count = 0\n",
    "    \n",
    "    for word in words:\n",
    "        if len(word) > k:\n",
    "            count += 1\n",
    "    \n",
    "    return count\n",
    "\n",
    "print(sum_over_k('The thing is that you', 3))"
   ]
  },
  {
   "cell_type": "code",
   "execution_count": 3,
   "id": "8a05cf80",
   "metadata": {},
   "outputs": [
    {
     "name": "stdout",
     "output_type": "stream",
     "text": [
      "84.33333333333333\n"
     ]
    }
   ],
   "source": [
    "# Write a function that returns the average value in a dictionary (assume the values are numeric)\n",
    "def dict_avg(dic):\n",
    "    if not dic:\n",
    "        return 0\n",
    "    \n",
    "    total = sum(dic.values())\n",
    "    count = len(dic)\n",
    "    return total / count\n",
    "\n",
    "print(dict_avg({'Alice': 85, 'Bob': 90, 'Charlie': 78}))\n",
    "    "
   ]
  },
  {
   "cell_type": "code",
   "execution_count": 8,
   "id": "281096a6",
   "metadata": {},
   "outputs": [
    {
     "name": "stdout",
     "output_type": "stream",
     "text": [
      "[1, 2, 3, 6]\n"
     ]
    }
   ],
   "source": [
    "# Write a function that returns common divisors of 2 numbers\n",
    "def common_div(num1, num2):\n",
    "    divisors = []\n",
    "    \n",
    "    for i in range(1, min(num1, num2) + 1):\n",
    "        if num1 % i == 0 and num2 % i == 0:\n",
    "            divisors.append(i)\n",
    "    return divisors\n",
    "\n",
    "print(common_div(12,18))"
   ]
  },
  {
   "cell_type": "code",
   "execution_count": 10,
   "id": "5dd2aefc",
   "metadata": {},
   "outputs": [
    {
     "name": "stdout",
     "output_type": "stream",
     "text": [
      "False\n"
     ]
    }
   ],
   "source": [
    "# Write a function that test if a number is prime\n",
    "def is_prime(num):\n",
    "    \n",
    "    if num <= 1:\n",
    "        return False\n",
    "    if num == 2:\n",
    "        return True\n",
    "    if num % 2 == 0:\n",
    "        return False\n",
    "    \n",
    "    for i in range(3, int(num**0.5) + 1, 2):\n",
    "        if num % i ==0:\n",
    "            return False\n",
    "    \n",
    "    return True\n",
    "\n",
    "print(is_prime(10))"
   ]
  },
  {
   "cell_type": "code",
   "execution_count": 11,
   "id": "319cbb0a",
   "metadata": {},
   "outputs": [
    {
     "name": "stdout",
     "output_type": "stream",
     "text": [
      "Index: 0, Value: 10\n",
      "Index: 2, Value: 4\n",
      "Index: 4, Value: 6\n",
      "Index: 6, Value: 12\n"
     ]
    }
   ],
   "source": [
    "# Write a function that prints elements of a list if the index and the value are even\n",
    "def weird_print(arr):\n",
    "    \n",
    "    for index, value in enumerate(arr):\n",
    "        if index % 2 == 0 and value % 2 == 0:\n",
    "            print(f\"Index: {index}, Value: {value}\")\n",
    "    \n",
    "the_list = [10, 3, 4, 8, 6, 7, 12, 9]\n",
    "weird_print(the_list)"
   ]
  },
  {
   "cell_type": "code",
   "execution_count": 16,
   "id": "83a551bf",
   "metadata": {},
   "outputs": [
    {
     "name": "stdout",
     "output_type": "stream",
     "text": [
      "{'str': 1, 'int': 1, 'bool': 1, 'list': 1, 'dict': 1, 'float': 1}\n"
     ]
    }
   ],
   "source": [
    "# Write a function that accepts an undefined number of keyworded arguments and return the count of different types\n",
    "def count_types(**kwargs):\n",
    "    type_counts = {}\n",
    "\n",
    "    for value in kwargs.values():\n",
    "        t = type(value).__name__  # Get the type name as a string\n",
    "        type_counts[t] = type_counts.get(t, 0) + 1\n",
    "\n",
    "    return type_counts\n",
    "\n",
    "print(count_types(name=\"Alice\", age=30, is_student=True, scores=[90, 80], profile={\"major\": \"CS\"}, height=5.5))"
   ]
  },
  {
   "cell_type": "code",
   "execution_count": 17,
   "id": "0edfe1e3",
   "metadata": {},
   "outputs": [
    {
     "name": "stdout",
     "output_type": "stream",
     "text": [
      "***********\n"
     ]
    }
   ],
   "source": [
    "# Convert a string into password format\n",
    "def to_password(text):\n",
    "    return '*' * len(text)\n",
    "\n",
    "print(to_password('mySecret123'))"
   ]
  }
 ],
 "metadata": {
  "kernelspec": {
   "display_name": ".venv",
   "language": "python",
   "name": "python3"
  },
  "language_info": {
   "codemirror_mode": {
    "name": "ipython",
    "version": 3
   },
   "file_extension": ".py",
   "mimetype": "text/x-python",
   "name": "python",
   "nbconvert_exporter": "python",
   "pygments_lexer": "ipython3",
   "version": "3.12.10"
  }
 },
 "nbformat": 4,
 "nbformat_minor": 5
}
