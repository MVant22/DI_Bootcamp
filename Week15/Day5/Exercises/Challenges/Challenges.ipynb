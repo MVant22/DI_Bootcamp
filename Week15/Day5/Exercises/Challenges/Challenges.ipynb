{
 "cells": [
  {
   "cell_type": "code",
   "execution_count": null,
   "id": "9bedced5",
   "metadata": {},
   "outputs": [
    {
     "name": "stdout",
     "output_type": "stream",
     "text": [
      "[0, 1, 10, 2, 3, 4]\n"
     ]
    }
   ],
   "source": [
    "# Write a script that counts the number of spaces in a string\n",
    "\n",
    "my_list = [0, 1, 2, 3, 4]\n",
    "\n",
    "my_list.insert(2, 10)\n",
    "\n",
    "print(my_list)\n"
   ]
  },
  {
   "cell_type": "code",
   "execution_count": null,
   "id": "eff20f13",
   "metadata": {},
   "outputs": [
    {
     "name": "stdout",
     "output_type": "stream",
     "text": [
      "4\n"
     ]
    }
   ],
   "source": [
    "# Write a script that counts the number of spaces in a string.\n",
    "para = \"The name is Jean claude\"\n",
    "numberOfSpaces = para.count(' ')\n",
    "print(numberOfSpaces)"
   ]
  },
  {
   "cell_type": "code",
   "execution_count": 10,
   "id": "a2e63b16",
   "metadata": {},
   "outputs": [
    {
     "name": "stdout",
     "output_type": "stream",
     "text": [
      "Number of lowercase 5\n",
      "Number of uppercase 2\n"
     ]
    }
   ],
   "source": [
    "# Write a script that calculates the number of upper case letters and lower case letters in a string.\n",
    "phrase = \"The King\"\n",
    "\n",
    "lower = 0\n",
    "upper = 0\n",
    "\n",
    "for char in phrase:\n",
    "    if char.islower():\n",
    "        lower += 1\n",
    "    elif char.isupper():\n",
    "        upper += 1\n",
    "        \n",
    "print(f\"Number of lowercase {lower}\")\n",
    "print(f\"Number of uppercase {upper}\")"
   ]
  },
  {
   "cell_type": "code",
   "execution_count": 26,
   "id": "6ea51ed7",
   "metadata": {},
   "outputs": [
    {
     "name": "stdout",
     "output_type": "stream",
     "text": [
      "5.75\n"
     ]
    }
   ],
   "source": [
    "# Write a function to find the sum of an array without using the built in function\n",
    "def my_sum(arr):\n",
    "    total = 0\n",
    "\n",
    "    for i in arr:\n",
    "        total += i\n",
    "\n",
    "    average = total / len(arr)\n",
    "    \n",
    "    return average\n",
    "\n",
    "print(my_sum([2,5,7,9]))\n"
   ]
  },
  {
   "cell_type": "code",
   "execution_count": 23,
   "id": "49360096",
   "metadata": {},
   "outputs": [
    {
     "name": "stdout",
     "output_type": "stream",
     "text": [
      "50\n"
     ]
    }
   ],
   "source": [
    "# Write a function to find the max number in a list\n",
    "def find_max(arr):\n",
    "    maxNum = 0\n",
    "    \n",
    "    for i in arr:\n",
    "        if i > maxNum:\n",
    "            maxNum = i\n",
    "    \n",
    "    return maxNum\n",
    "    \n",
    "print(find_max([0,1,3,50]))"
   ]
  },
  {
   "cell_type": "code",
   "execution_count": 2,
   "id": "ff3ccca3",
   "metadata": {},
   "outputs": [
    {
     "name": "stdout",
     "output_type": "stream",
     "text": [
      "120\n"
     ]
    }
   ],
   "source": [
    "# Write a function that returns factorial of a number\n",
    "num = 5\n",
    "fact = 1\n",
    "\n",
    "for i in range(1, num+1):\n",
    "    fact *= i\n",
    "\n",
    "print(fact)"
   ]
  },
  {
   "cell_type": "code",
   "execution_count": null,
   "id": "86b4f5b4",
   "metadata": {},
   "outputs": [
    {
     "name": "stdout",
     "output_type": "stream",
     "text": [
      "4\n"
     ]
    }
   ],
   "source": [
    "# Write a function that counts an element in a list (without using the count method)\n",
    "def list_count(arr, *args):\n",
    "    count = 0\n",
    "    \n",
    "    for i in arr:\n",
    "        count += 1\n",
    "    \n",
    "    return count\n",
    "\n",
    "print(list_count(['a','a','t','o'],'a'))"
   ]
  },
  {
   "cell_type": "code",
   "execution_count": 7,
   "id": "36851d66",
   "metadata": {},
   "outputs": [
    {
     "name": "stdout",
     "output_type": "stream",
     "text": [
      "2.23606797749979\n"
     ]
    }
   ],
   "source": [
    "# Write a function that returns the L2-norm (square root of the sum of squares) of the sum of a list\n",
    "import math\n",
    "def norm(arr):\n",
    "    total = 0\n",
    "    \n",
    "    \n",
    "    for i in arr:\n",
    "        total += i\n",
    "    \n",
    "    sqaure_root = math.sqrt(total)\n",
    "    return sqaure_root\n",
    "\n",
    "print(norm([1,2,2]))\n",
    "    \n",
    "    "
   ]
  },
  {
   "cell_type": "code",
   "execution_count": 9,
   "id": "190577ec",
   "metadata": {},
   "outputs": [
    {
     "name": "stdout",
     "output_type": "stream",
     "text": [
      "True\n"
     ]
    }
   ],
   "source": [
    "# Write a function to find if an array is monotonic (sorted either ascending of descending)\n",
    "def is_mono(arr):\n",
    "    increasing = decreasing = True\n",
    "    \n",
    "    for i in range(1, len(arr)):\n",
    "        if arr[i] > arr[i-i]:\n",
    "            decreasing = False\n",
    "        if arr[i] < arr[i-1]:\n",
    "            increasing = False\n",
    "            \n",
    "    return increasing or decreasing\n",
    "\n",
    "print(is_mono([7,6,5,5,2,0]))"
   ]
  },
  {
   "cell_type": "code",
   "execution_count": 1,
   "id": "7b1cf0f8",
   "metadata": {},
   "outputs": [
    {
     "name": "stdout",
     "output_type": "stream",
     "text": [
      "11\n"
     ]
    }
   ],
   "source": [
    "# Write a function that prints the longest word in a list.\n",
    "a = [\"geeks\", \"for\", \"geeks\", \"programming\"]\n",
    "\n",
    "res = len(max(a, key=len))\n",
    "print(res)\n"
   ]
  },
  {
   "cell_type": "code",
   "execution_count": null,
   "id": "63cd43d9",
   "metadata": {},
   "outputs": [
    {
     "ename": "TypeError",
     "evalue": "'>' not supported between instances of 'str' and 'int'",
     "output_type": "error",
     "traceback": [
      "\u001b[31m---------------------------------------------------------------------------\u001b[39m",
      "\u001b[31mTypeError\u001b[39m                                 Traceback (most recent call last)",
      "\u001b[36mCell\u001b[39m\u001b[36m \u001b[39m\u001b[32mIn[4]\u001b[39m\u001b[32m, line 7\u001b[39m\n\u001b[32m      4\u001b[39m string_list = []\n\u001b[32m      6\u001b[39m \u001b[38;5;28;01mfor\u001b[39;00m i \u001b[38;5;129;01min\u001b[39;00m mixed_list:\n\u001b[32m----> \u001b[39m\u001b[32m7\u001b[39m     \u001b[38;5;28;01mif\u001b[39;00m \u001b[43mi\u001b[49m\u001b[43m \u001b[49m\u001b[43m>\u001b[49m\u001b[43m \u001b[49m\u001b[32;43m3\u001b[39;49m \u001b[38;5;129;01mor\u001b[39;00m i < \u001b[32m5\u001b[39m:\n\u001b[32m      8\u001b[39m         integers_list.append(mixed_list[i])\n\u001b[32m      9\u001b[39m     \u001b[38;5;28;01melse\u001b[39;00m:\n",
      "\u001b[31mTypeError\u001b[39m: '>' not supported between instances of 'str' and 'int'"
     ]
    }
   ],
   "source": [
    "# Given a list of integers and strings, put all the integers in one list, and all the strings in another one.\n",
    "mixed_list = [\"apple\", 1, \"banana\", 2]\n",
    "integers_list = []\n",
    "string_list = []\n",
    "\n",
    "for i in mixed_list:\n",
    "    if isinstance(i, int):\n",
    "        integers_list.append(i)\n",
    "    else:\n",
    "        string_list.append(i)\n",
    "\n",
    "print(integers_list)\n",
    "print(string_list)"
   ]
  }
 ],
 "metadata": {
  "kernelspec": {
   "display_name": ".venv",
   "language": "python",
   "name": "python3"
  },
  "language_info": {
   "codemirror_mode": {
    "name": "ipython",
    "version": 3
   },
   "file_extension": ".py",
   "mimetype": "text/x-python",
   "name": "python",
   "nbconvert_exporter": "python",
   "pygments_lexer": "ipython3",
   "version": "3.12.10"
  }
 },
 "nbformat": 4,
 "nbformat_minor": 5
}
