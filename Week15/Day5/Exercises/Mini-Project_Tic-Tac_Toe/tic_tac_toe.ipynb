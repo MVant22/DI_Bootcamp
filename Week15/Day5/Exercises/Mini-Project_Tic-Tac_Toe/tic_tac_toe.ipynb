{
 "cells": [
  {
   "cell_type": "code",
   "execution_count": null,
   "id": "2dca9db8",
   "metadata": {},
   "outputs": [],
   "source": [
    "# Represent the Game Board\n",
    "def create_board():\n",
    "    return [[' ' for _ in range(3)] for _ in range(3)]\n"
   ]
  },
  {
   "cell_type": "code",
   "execution_count": null,
   "id": "762043a3",
   "metadata": {},
   "outputs": [],
   "source": [
    "# Displaying the Game board\n",
    "def display_board(board):\n",
    "    print(\"\\n\")\n",
    "    for i in range(3):\n",
    "        print(' | '.join(board[i]))\n",
    "        if i < 2:\n",
    "            print(\"---------\")\n",
    "    print(\"\\n\")"
   ]
  },
  {
   "cell_type": "code",
   "execution_count": null,
   "id": "f26f16ba",
   "metadata": {},
   "outputs": [],
   "source": [
    "# Get player input\n",
    "def player_input(board, player):\n",
    "    valid = False\n",
    "    while not valid:\n",
    "        row = input(f\"Player {player}, enter the row (0, 1, or 2): \")\n",
    "        col = input(f\"Player {player}, enter the column (0, 1, or 2): \")\n",
    "\n",
    "        # Check if row and col are digits\n",
    "        if not (row.isdigit() and col.isdigit()):\n",
    "            print(\"Please enter numbers only.\")\n",
    "            continue\n",
    "\n",
    "        row = int(row)\n",
    "        col = int(col)\n",
    "\n",
    "        # Check if values are in the valid range\n",
    "        if row not in range(3) or col not in range(3):\n",
    "            print(\"Row and column must be 0, 1, or 2.\")\n",
    "            continue\n",
    "\n",
    "        # Check if the cell is empty\n",
    "        if board[row][col] != ' ':\n",
    "            print(\"That cell is already taken. Try again.\")\n",
    "            continue\n",
    "\n",
    "        valid = True\n",
    "\n",
    "    return row, col"
   ]
  },
  {
   "cell_type": "code",
   "execution_count": null,
   "id": "c25b0f0f",
   "metadata": {},
   "outputs": [],
   "source": [
    "# Check for a winner\n",
    "def check_win(board, player):\n",
    "    for i in range(3):\n",
    "        if board[i][0] == board[i][1] == board[i][2] == player:  # row\n",
    "            return True\n",
    "        if board[0][i] == board[1][i] == board[2][i] == player:  # column\n",
    "            return True\n",
    "    if board[0][0] == board[1][1] == board[2][2] == player:  # main diagonal\n",
    "        return True\n",
    "    if board[0][2] == board[1][1] == board[2][0] == player:  # anti-diagonal\n",
    "        return True\n",
    "    return False"
   ]
  },
  {
   "cell_type": "code",
   "execution_count": null,
   "id": "33688964",
   "metadata": {},
   "outputs": [],
   "source": [
    "# Check for a tie\n",
    "def check_tie(board):\n",
    "    for row in board:\n",
    "        if ' ' in row:\n",
    "            return False\n",
    "    return True"
   ]
  },
  {
   "cell_type": "code",
   "execution_count": null,
   "id": "c2383932",
   "metadata": {},
   "outputs": [],
   "source": [
    "# main game loop\n",
    "def play():\n",
    "    board = create_board()\n",
    "    current_player = 'X'\n",
    "\n",
    "    while True:\n",
    "        display_board(board)\n",
    "        row, col = player_input(board, current_player)\n",
    "        board[row][col] = current_player\n",
    "\n",
    "        if check_win(board, current_player):\n",
    "            display_board(board)\n",
    "            print(f\"Player {current_player} wins!\")\n",
    "            break\n",
    "        elif check_tie(board):\n",
    "            display_board(board)\n",
    "            print(\"It's a tie!\")\n",
    "            break\n",
    "\n",
    "        # Switch players\n",
    "        current_player = 'O' if current_player == 'X' else 'X'"
   ]
  },
  {
   "cell_type": "code",
   "execution_count": null,
   "id": "99dede2e",
   "metadata": {},
   "outputs": [],
   "source": [
    "play()"
   ]
  }
 ],
 "metadata": {
  "kernelspec": {
   "display_name": ".venv",
   "language": "python",
   "name": "python3"
  },
  "language_info": {
   "codemirror_mode": {
    "name": "ipython",
    "version": 3
   },
   "file_extension": ".py",
   "mimetype": "text/x-python",
   "name": "python",
   "nbconvert_exporter": "python",
   "pygments_lexer": "ipython3",
   "version": "3.12.10"
  }
 },
 "nbformat": 4,
 "nbformat_minor": 5
}
