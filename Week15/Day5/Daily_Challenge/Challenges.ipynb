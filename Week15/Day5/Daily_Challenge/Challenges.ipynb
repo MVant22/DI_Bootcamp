{
 "cells": [
  {
   "cell_type": "code",
   "execution_count": null,
   "id": "cf52b619",
   "metadata": {},
   "outputs": [
    {
     "name": "stdout",
     "output_type": "stream",
     "text": [
      " alpha,  cadix,  omega, beta\n"
     ]
    }
   ],
   "source": [
    "# Challenge 1: Sorting\n",
    "\n",
    "# Get user input\n",
    "user = input(\"Enter words: \").lower()\n",
    "\n",
    "# Split the input into a list of words\n",
    "words = user.split(',')\n",
    "\n",
    "# sort the list\n",
    "words.sort()\n",
    "\n",
    "# Join the sorted list\n",
    "sorted_list = ', '.join(words)\n",
    "\n",
    "print(sorted_list)\n"
   ]
  },
  {
   "cell_type": "code",
   "execution_count": null,
   "id": "8d6a36ae",
   "metadata": {},
   "outputs": [],
   "source": [
    "# Challenge 2: Longest Word\n",
    "def find_longest_word(sentence):\n",
    "    # split the sentence into words\n",
    "    words = sentence.split()\n",
    "    \n",
    "    # initiliase variable to store longest word\n",
    "    longest_word = ''\n",
    "    max_length = 0\n",
    "    \n",
    "    # iterate through each word in sentence\n",
    "    for word in words:\n",
    "        if len(word) > max_length:\n",
    "            longest_word = word\n",
    "            max_length = len(word)\n",
    "            \n",
    "    return longest_word"
   ]
  }
 ],
 "metadata": {
  "kernelspec": {
   "display_name": ".venv",
   "language": "python",
   "name": "python3"
  },
  "language_info": {
   "codemirror_mode": {
    "name": "ipython",
    "version": 3
   },
   "file_extension": ".py",
   "mimetype": "text/x-python",
   "name": "python",
   "nbconvert_exporter": "python",
   "pygments_lexer": "ipython3",
   "version": "3.12.10"
  }
 },
 "nbformat": 4,
 "nbformat_minor": 5
}
