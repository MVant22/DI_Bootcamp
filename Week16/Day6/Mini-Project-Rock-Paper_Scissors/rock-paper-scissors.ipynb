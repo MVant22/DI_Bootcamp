{
 "cells": [
  {
   "cell_type": "code",
   "execution_count": 11,
   "id": "31234a10",
   "metadata": {},
   "outputs": [
    {
     "name": "stdout",
     "output_type": "stream",
     "text": [
      "\n",
      "Menu:\n",
      "1. Play a new game\n",
      "2. Show scores\n",
      "3. Quit\n"
     ]
    },
    {
     "ename": "TypeError",
     "evalue": "Game.get_game_result() missing 2 required positional arguments: 'user_item' and 'computer_item'",
     "output_type": "error",
     "traceback": [
      "\u001b[31m---------------------------------------------------------------------------\u001b[39m",
      "\u001b[31mTypeError\u001b[39m                                 Traceback (most recent call last)",
      "\u001b[36mCell\u001b[39m\u001b[36m \u001b[39m\u001b[32mIn[11]\u001b[39m\u001b[32m, line 44\u001b[39m\n\u001b[32m     41\u001b[39m             \u001b[38;5;28;01mbreak\u001b[39;00m\n\u001b[32m     43\u001b[39m \u001b[38;5;28;01mif\u001b[39;00m \u001b[34m__name__\u001b[39m == \u001b[33m\"\u001b[39m\u001b[33m__main__\u001b[39m\u001b[33m\"\u001b[39m:\n\u001b[32m---> \u001b[39m\u001b[32m44\u001b[39m     \u001b[43mmain\u001b[49m\u001b[43m(\u001b[49m\u001b[43m)\u001b[49m\n",
      "\u001b[36mCell\u001b[39m\u001b[36m \u001b[39m\u001b[32mIn[11]\u001b[39m\u001b[32m, line 34\u001b[39m, in \u001b[36mmain\u001b[39m\u001b[34m()\u001b[39m\n\u001b[32m     32\u001b[39m \u001b[38;5;28;01mif\u001b[39;00m choice == \u001b[33m\"\u001b[39m\u001b[33m1\u001b[39m\u001b[33m\"\u001b[39m:\n\u001b[32m     33\u001b[39m     game = Game()\n\u001b[32m---> \u001b[39m\u001b[32m34\u001b[39m     result = \u001b[43mgame\u001b[49m\u001b[43m.\u001b[49m\u001b[43mplay\u001b[49m\u001b[43m(\u001b[49m\u001b[43m)\u001b[49m\n\u001b[32m     35\u001b[39m     \u001b[38;5;28;01mif\u001b[39;00m result \u001b[38;5;129;01min\u001b[39;00m results:\n\u001b[32m     36\u001b[39m         results[result] += \u001b[32m1\u001b[39m\n",
      "\u001b[36mFile \u001b[39m\u001b[32mc:\\Users\\SPIN\\OneDrive\\Documents\\DI_Bootcamp\\Week16\\Day6\\game.py:35\u001b[39m, in \u001b[36mGame.play\u001b[39m\u001b[34m(self)\u001b[39m\n\u001b[32m     33\u001b[39m user_item = \u001b[38;5;28mself\u001b[39m.get_user_item()\n\u001b[32m     34\u001b[39m computer_item = \u001b[38;5;28mself\u001b[39m.get_computer_item()\n\u001b[32m---> \u001b[39m\u001b[32m35\u001b[39m result = \u001b[38;5;28;43mself\u001b[39;49m\u001b[43m.\u001b[49m\u001b[43mget_game_result\u001b[49m\u001b[43m(\u001b[49m\u001b[43m)\u001b[49m\n\u001b[32m     37\u001b[39m \u001b[38;5;28;01mif\u001b[39;00m result == \u001b[33m\"\u001b[39m\u001b[33mwin\u001b[39m\u001b[33m\"\u001b[39m:\n\u001b[32m     38\u001b[39m     \u001b[38;5;28mprint\u001b[39m(\u001b[33mf\u001b[39m\u001b[33m\"\u001b[39m\u001b[33mYou selected \u001b[39m\u001b[38;5;132;01m{\u001b[39;00muser_item\u001b[38;5;132;01m}\u001b[39;00m\u001b[33m. The computer selected \u001b[39m\u001b[38;5;132;01m{\u001b[39;00mcomputer_item\u001b[38;5;132;01m}\u001b[39;00m\u001b[33m. You won\u001b[39m\u001b[33m\"\u001b[39m)\n",
      "\u001b[31mTypeError\u001b[39m: Game.get_game_result() missing 2 required positional arguments: 'user_item' and 'computer_item'"
     ]
    }
   ],
   "source": [
    "import sys\n",
    "from game import Game\n",
    "\n",
    "def get_user_menu_choice():\n",
    "    print(\"\\nMenu:\")\n",
    "    print(\"1. Play a new game\")\n",
    "    print(\"2. Show scores\")\n",
    "    print(\"3. Quit\")\n",
    "\n",
    "    choice = input(\"Enter your choice (1/2/3): \").strip()\n",
    "\n",
    "    if choice in [\"1\", \"2\", \"3\"]:\n",
    "        return choice\n",
    "    else:\n",
    "        print(\"Invalid choice. Please enter 1, 2, or 3.\")\n",
    "        return None\n",
    "    \n",
    "def print_results(results):\n",
    "    print(\"\\nGame Results Summary:\")\n",
    "    print(\"----------------------\")\n",
    "    print(f\"Wins:   {results.get('win', 0)}\")\n",
    "    print(f\"Draws:  {results.get('draw', 0)}\")\n",
    "    print(f\"Losses: {results.get('loss', 0)}\")\n",
    "    print(\"----------------------\")\n",
    "    print(\"Thank you for playing Rock-Paper-Scissors! Goodbye\")\n",
    "\n",
    "def main():\n",
    "    results = {\"win\": 0, \"loss\": 0, \"draw\": 0}\n",
    "\n",
    "    while True:\n",
    "        choice = get_user_menu_choice()\n",
    "        if choice == \"1\":\n",
    "            game = Game()\n",
    "            result = game.play()\n",
    "            if result in results:\n",
    "                results[result] += 1\n",
    "        elif choice == \"2\":\n",
    "            print_results(results)\n",
    "        elif choice == \"3\":\n",
    "            print_results(results)\n",
    "            break\n",
    "\n",
    "if __name__ == \"__main__\":\n",
    "    main()"
   ]
  }
 ],
 "metadata": {
  "kernelspec": {
   "display_name": ".venv",
   "language": "python",
   "name": "python3"
  },
  "language_info": {
   "codemirror_mode": {
    "name": "ipython",
    "version": 3
   },
   "file_extension": ".py",
   "mimetype": "text/x-python",
   "name": "python",
   "nbconvert_exporter": "python",
   "pygments_lexer": "ipython3",
   "version": "3.12.10"
  }
 },
 "nbformat": 4,
 "nbformat_minor": 5
}
