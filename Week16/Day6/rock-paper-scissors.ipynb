{
 "cells": [
  {
   "cell_type": "code",
   "execution_count": null,
   "id": "31234a10",
   "metadata": {},
   "outputs": [],
   "source": [
    "import sys\n",
    "from game import Game\n",
    "\n",
    "def get_user_menu_choice():\n",
    "    print(\"\\nMenu:\")\n",
    "    print(\"1. Play a new game\")\n",
    "    print(\"2. Show scores\")\n",
    "    print(\"3. Quit\")\n",
    "\n",
    "    choice = input(\"Enter your choice (1/2/3): \").strip()\n",
    "\n",
    "    if choice in [\"1\", \"2\", \"3\"]:\n",
    "        return choice\n",
    "    else:\n",
    "        print(\"Invalid choice. Please enter 1, 2, or 3.\")\n",
    "        return None\n",
    "    \n",
    "def print_results(results):\n",
    "    print(\"\\nGame Results Summary:\")\n",
    "    print(\"----------------------\")\n",
    "    print(f\"Wins:   {results.get('win', 0)}\")\n",
    "    print(f\"Draws:  {results.get('draw', 0)}\")\n",
    "    print(f\"Losses: {results.get('loss', 0)}\")\n",
    "    print(\"----------------------\")\n",
    "    print(\"Thank you for playing Rock-Paper-Scissors! Goodbye\")\n",
    "\n",
    "def main():\n",
    "    results = {\"win\": 0, \"loss\": 0, \"draw\": 0}\n",
    "\n",
    "    while True:\n",
    "        choice = get_user_menu_choice()\n",
    "        if choice == \"1\":\n",
    "            game = Game()\n",
    "            result = game.play()\n",
    "            if result in results:\n",
    "                results[result] += 1\n",
    "        elif choice == \"2\":\n",
    "            print_results(results)\n",
    "        elif choice == \"3\":\n",
    "            print_results(results)\n",
    "            break\n",
    "\n",
    "if __name__ == \"__main__\":\n",
    "    main()"
   ]
  }
 ],
 "metadata": {
  "kernelspec": {
   "display_name": ".venv",
   "language": "python",
   "name": "python3"
  },
  "language_info": {
   "codemirror_mode": {
    "name": "ipython",
    "version": 3
   },
   "file_extension": ".py",
   "mimetype": "text/x-python",
   "name": "python",
   "nbconvert_exporter": "python",
   "pygments_lexer": "ipython3",
   "version": "3.12.10"
  }
 },
 "nbformat": 4,
 "nbformat_minor": 5
}
