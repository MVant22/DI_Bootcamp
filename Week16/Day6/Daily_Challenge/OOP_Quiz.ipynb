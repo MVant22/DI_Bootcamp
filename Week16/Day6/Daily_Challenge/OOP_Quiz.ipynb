{
 "cells": [
  {
   "cell_type": "code",
   "execution_count": null,
   "id": "030a0f5f",
   "metadata": {},
   "outputs": [],
   "source": [
    "# What is a class?\n",
    "#A class is a blueprint or template for creating objects. \n",
    "# It defines a set of attributes (variables) and methods (functions) that the created objects (instances) will have."
   ]
  },
  {
   "cell_type": "code",
   "execution_count": null,
   "id": "5749751f",
   "metadata": {},
   "outputs": [],
   "source": [
    "# What is an instance?\n",
    "# An instance is an individual object created from a class. Each instance has its own copy of the class attributes."
   ]
  },
  {
   "cell_type": "code",
   "execution_count": null,
   "id": "d6bfed8e",
   "metadata": {},
   "outputs": [],
   "source": [
    "# What is encapsulation?\n",
    "# Encapsulation is the concept of bundling data (attributes) and methods that operate on the data into a single unit or class, and restricting access to some of the object’s components to protect the internal state.\n",
    "# In many languages, it means hiding internal details and exposing only what is necessary."
   ]
  },
  {
   "cell_type": "code",
   "execution_count": null,
   "id": "4b4593bc",
   "metadata": {},
   "outputs": [],
   "source": [
    "# What is abstraction?\n",
    "# Abstraction means exposing only the essential features and hiding the complex implementation details from the user. \n",
    "# It helps reduce complexity."
   ]
  },
  {
   "cell_type": "code",
   "execution_count": null,
   "id": "60dd079d",
   "metadata": {},
   "outputs": [],
   "source": [
    "# What is inheritance?\n",
    "# Inheritance allows a class (child or subclass) to inherit attributes and methods from another class (parent or superclass), \n",
    "# enabling code reuse and creating a hierarchy."
   ]
  },
  {
   "cell_type": "code",
   "execution_count": null,
   "id": "efcf8b7c",
   "metadata": {},
   "outputs": [],
   "source": [
    "# What is multiple inheritance?\n",
    "# Multiple inheritance means a class inherits from more than one parent class, \n",
    "# gaining attributes and methods from all of them."
   ]
  },
  {
   "cell_type": "code",
   "execution_count": null,
   "id": "77b2efb4",
   "metadata": {},
   "outputs": [],
   "source": [
    "# What is polymorphism?\n",
    "# Polymorphism means “many forms.” \n",
    "# It allows objects of different classes to be treated as objects of a common superclass. \n",
    "# More specifically, methods can be overridden in subclasses to behave differently."
   ]
  },
  {
   "cell_type": "code",
   "execution_count": null,
   "id": "ba540b6d",
   "metadata": {},
   "outputs": [],
   "source": [
    "# What is method resolution order (MRO)?\n",
    "# MRO is the order in which Python looks for a method in a hierarchy of classes, especially important with multiple inheritance."
   ]
  },
  {
   "cell_type": "code",
   "execution_count": null,
   "id": "16831300",
   "metadata": {},
   "outputs": [],
   "source": [
    "import random\n",
    "\n",
    "class Card:\n",
    "    def __init__(self, suit, value):\n",
    "        self.suit = suit\n",
    "        self.value = value\n",
    "    \n",
    "    def __repr__(self):\n",
    "        return f\"{self.value} of {self.suit}\"\n",
    "\n",
    "class Deck:\n",
    "    def __init__(self):\n",
    "        self.suits = [\"Hearts\", \"Diamonds\", \"Clubs\", \"Spades\"]\n",
    "        self.values = [\"A\"] + [str(n) for n in range(2, 11)] + [\"J\", \"Q\", \"K\"]\n",
    "        self.cards = []\n",
    "        self.shuffle()\n",
    "    \n",
    "    def shuffle(self):\n",
    "        self.cards = [Card(suit, value) for suit in self.suits for value in self.values]\n",
    "        random.shuffle(self.cards)\n",
    "\n",
    "    def deal(self):\n",
    "        if len(self.cards) == 0:\n",
    "            return None\n",
    "        return self.cards.pop() \n",
    "\n",
    "if __name__ == \"__main__\":\n",
    "    deck = Deck()\n",
    "    print(\"Shuffled deck:\")\n",
    "    print(deck.cards)\n",
    "\n",
    "    print(\"\\nDealing 5 cards:\")\n",
    "    for _ in range(5):\n",
    "        card = deck.deal()\n",
    "        print(card)\n",
    "\n",
    "    print(f\"\\nCards remaining in deck: {len(deck.cards)}\")"
   ]
  }
 ],
 "metadata": {
  "kernelspec": {
   "display_name": ".venv",
   "language": "python",
   "name": "python3"
  },
  "language_info": {
   "codemirror_mode": {
    "name": "ipython",
    "version": 3
   },
   "file_extension": ".py",
   "mimetype": "text/x-python",
   "name": "python",
   "nbconvert_exporter": "python",
   "pygments_lexer": "ipython3",
   "version": "3.12.10"
  }
 },
 "nbformat": 4,
 "nbformat_minor": 5
}
