{
 "cells": [
  {
   "cell_type": "code",
   "execution_count": null,
   "id": "89b3c30f",
   "metadata": {},
   "outputs": [],
   "source": [
    "class Pagination:\n",
    "    def __init__(self, items=None, page_size=10):\n",
    "        self.items = items if items is not None else []\n",
    "        self.page_size = page_size\n",
    "        self.current_page = 0 \n",
    "\n",
    "    def get_visible_items(self):\n",
    "        start = self.current_page * self.page_size\n",
    "        end = start + self.page_size\n",
    "        return self.items[start:end]\n"
   ]
  },
  {
   "cell_type": "code",
   "execution_count": null,
   "id": "c391ad86",
   "metadata": {},
   "outputs": [],
   "source": [
    "import math\n",
    "\n",
    "class Pagination:\n",
    "    def __init__(self, items=None, page_size=10):\n",
    "        self.items = items if items is not None else []\n",
    "\n",
    "        self.page_size = page_size\n",
    "        self.current_idx = 0\n",
    "        \n",
    "        self.total_pages = math.ceil(len(self.items) / self.page_size)\n",
    "\n",
    "    def get_visible_items(self):\n",
    "        start = self.current_idx * self.page_size\n",
    "        end = start + self.page_size\n",
    "        return self.items[start:end]"
   ]
  }
 ],
 "metadata": {
  "kernelspec": {
   "display_name": ".venv",
   "language": "python",
   "name": "python3"
  },
  "language_info": {
   "codemirror_mode": {
    "name": "ipython",
    "version": 3
   },
   "file_extension": ".py",
   "mimetype": "text/x-python",
   "name": "python",
   "nbconvert_exporter": "python",
   "pygments_lexer": "ipython3",
   "version": "3.12.10"
  }
 },
 "nbformat": 4,
 "nbformat_minor": 5
}
