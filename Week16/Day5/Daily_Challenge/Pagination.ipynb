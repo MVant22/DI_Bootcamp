{
 "cells": [
  {
   "cell_type": "code",
   "execution_count": 2,
   "id": "89b3c30f",
   "metadata": {},
   "outputs": [
    {
     "name": "stdout",
     "output_type": "stream",
     "text": [
      "['a', 'b', 'c', 'd']\n",
      "['e', 'f', 'g', 'h']\n",
      "['y', 'z']\n",
      "7\n",
      "1\n"
     ]
    }
   ],
   "source": [
    "import math\n",
    "\n",
    "class Pagination:\n",
    "    def __init__(self, items=None, page_size=10):\n",
    "        self.items = items if items is not None else []\n",
    "        self.page_size = page_size\n",
    "        self.current_idx = 0\n",
    "        self.total_pages = math.ceil(len(self.items) / self.page_size)\n",
    "\n",
    "    def get_visible_items(self):\n",
    "        start = self.current_idx * self.page_size\n",
    "        end = start + self.page_size\n",
    "        return self.items[start:end]\n",
    "\n",
    "    def go_to_page(self, page_num):\n",
    "        if page_num < 1:\n",
    "            self.current_idx = 0\n",
    "        elif page_num > self.total_pages:\n",
    "            self.current_idx = self.total_pages - 1\n",
    "        else:\n",
    "            self.current_idx = page_num - 1\n",
    "        return self\n",
    "\n",
    "    def first_page(self):\n",
    "        self.current_idx = 0\n",
    "        return self\n",
    "\n",
    "    def last_page(self):\n",
    "        self.current_idx = self.total_pages - 1\n",
    "        return self\n",
    "\n",
    "    def next_page(self):\n",
    "        if self.current_idx < self.total_pages - 1:\n",
    "            self.current_idx += 1\n",
    "        return self\n",
    "\n",
    "    def previous_page(self):\n",
    "        if self.current_idx > 0:\n",
    "            self.current_idx -= 1\n",
    "        return self\n",
    "\n",
    "    def __str__(self):\n",
    "        return (f\"Pagination: page {self.current_idx + 1} of {self.total_pages}, \"\n",
    "                f\"showing items {self.current_idx * self.page_size + 1} to \"\n",
    "                f\"{min((self.current_idx + 1) * self.page_size, len(self.items))} \"\n",
    "                f\"of {len(self.items)} total items\")\n",
    "\n",
    "alphabetList = list(\"abcdefghijklmnopqrstuvwxyz\")\n",
    "p = Pagination(alphabetList, 4)\n",
    "\n",
    "print(p.get_visible_items())  # ['a', 'b', 'c', 'd']\n",
    "\n",
    "p.next_page()\n",
    "print(p.get_visible_items())  # ['e', 'f', 'g', 'h']\n",
    "\n",
    "p.last_page()\n",
    "print(p.get_visible_items())  # ['y', 'z']\n",
    "\n",
    "p.go_to_page(10)\n",
    "print(p.current_idx + 1)      # Output: 7 (last page)\n",
    "\n",
    "p.go_to_page(0)\n",
    "print(p.current_idx + 1)      # Output: 1 (first page)\n"
   ]
  }
 ],
 "metadata": {
  "kernelspec": {
   "display_name": ".venv",
   "language": "python",
   "name": "python3"
  },
  "language_info": {
   "codemirror_mode": {
    "name": "ipython",
    "version": 3
   },
   "file_extension": ".py",
   "mimetype": "text/x-python",
   "name": "python",
   "nbconvert_exporter": "python",
   "pygments_lexer": "ipython3",
   "version": "3.12.10"
  }
 },
 "nbformat": 4,
 "nbformat_minor": 5
}
