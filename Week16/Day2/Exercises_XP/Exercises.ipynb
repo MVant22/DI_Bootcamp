{
 "cells": [
  {
   "cell_type": "code",
   "execution_count": null,
   "id": "346be907",
   "metadata": {},
   "outputs": [
    {
     "name": "stdout",
     "output_type": "stream",
     "text": [
      "The oldest cat is Anon, and is 10 years old.\n"
     ]
    }
   ],
   "source": [
    "# Exercise 1\n",
    "class Cat():\n",
    "    \n",
    "    def __init__(self, name, age):\n",
    "        self.name = name\n",
    "        self.age = age\n",
    "        \n",
    "def oldest_cat(cat1, cat2, cat3):\n",
    "    if cat1.age >= cat2.age and cat1.age >= cat3.age:\n",
    "        return cat1\n",
    "    elif cat2.age >= cat1.age and cat2.age >= cat3.age:\n",
    "        return cat2\n",
    "    else:\n",
    "        return cat3\n",
    "    \n",
    "cat1 = Cat(\"Anon\", 10)\n",
    "cat2 = Cat(\"Beatie\", 8)\n",
    "cat3 = Cat(\"Cathy\", 3)\n",
    "    \n",
    "oldest = oldest_cat(cat1, cat2, cat3) \n",
    "    \n",
    "print(f\"The oldest cat is {oldest.name}, and is {oldest.age} years old.\")"
   ]
  },
  {
   "cell_type": "code",
   "execution_count": null,
   "id": "be063671",
   "metadata": {},
   "outputs": [
    {
     "name": "stdout",
     "output_type": "stream",
     "text": [
      "David's dog is named Anon and is 80 cm tall.\n",
      "Anongoes woof!\n",
      "Anon jumps 160 cm high!\n",
      "Sarah's dog is named Beathy and is 90 cm tall.\n",
      "Beathygoes woof!\n",
      "Beathy jumps 180 cm high!\n",
      "Beathy is taller than Anon\n"
     ]
    }
   ],
   "source": [
    "# Exercise 2\n",
    "class Dog():\n",
    "    \n",
    "    def __init__(self, name, height):\n",
    "        self.name = name\n",
    "        self.height = height\n",
    "    \n",
    "    def bark(self):\n",
    "        print(f\"{self.name}goes woof!\")\n",
    "        \n",
    "    def jump(self):\n",
    "        print(f\"{self.name} jumps {self.height * 2} cm high!\")\n",
    "        \n",
    "\n",
    "davids_dog = Dog(\"Anon\", 80)\n",
    "sarahs_dog = Dog(\"Beathy\", 90)\n",
    "\n",
    "print(f\"David's dog is named {davids_dog.name} and is {davids_dog.height} cm tall.\")\n",
    "davids_dog.bark()\n",
    "davids_dog.jump()\n",
    "\n",
    "print(f\"Sarah's dog is named {sarahs_dog.name} and is {sarahs_dog.height} cm tall.\")\n",
    "sarahs_dog.bark()\n",
    "sarahs_dog.jump()\n",
    "\n",
    "\n",
    "if davids_dog.height > sarahs_dog.height :\n",
    "    print(f\"{davids_dog.name} is taller than {sarahs_dog.name}\")\n",
    "elif sarahs_dog.height > davids_dog.height:\n",
    "    print(f\"{sarahs_dog.name} is taller than {davids_dog.name}\")\n",
    "else:\n",
    "    print(f\"Both {sarahs_dog.name} and {davids_dog.name} are same height\")"
   ]
  },
  {
   "cell_type": "code",
   "execution_count": null,
   "id": "a11ad112",
   "metadata": {},
   "outputs": [
    {
     "name": "stdout",
     "output_type": "stream",
     "text": [
      "There’s a lady who's sure\n",
      "all that glitters is gold\n",
      "and she’s buying a stairway to heaven\n",
      "<__main__.Song object at 0x000002115584EFF0>\n"
     ]
    }
   ],
   "source": [
    "# Exercise 3\n",
    "class Song():\n",
    "    def __init__(self, lyrics):\n",
    "        self.lyrics = lyrics\n",
    "    \n",
    "    def sing_me_a_song(self):\n",
    "        for line in self.lyrics:\n",
    "            print(line)\n",
    "            \n",
    "my_song = Song([\"There' a lady who's sure\", \"all that glitters is gold\", \"and she's buying a stairway to heaven\"])\n",
    "\n",
    "my_song.sing_me_a_song()\n",
    "print(my_song)\n",
    "        \n",
    "    "
   ]
  },
  {
   "cell_type": "code",
   "execution_count": 5,
   "id": "4da63d58",
   "metadata": {},
   "outputs": [
    {
     "name": "stdout",
     "output_type": "stream",
     "text": [
      "Giraffe has been added to the zoo.\n",
      "Bear has been added to the zoo.\n",
      "Baboon has been added to the zoo.\n",
      "Animals in zoo: \n",
      "['Giraffe', 'Bear', 'Baboon']\n",
      "['Giraffe', 'Bear', 'Baboon']\n",
      "['Giraffe', 'Bear', 'Baboon']\n",
      "Bear has been removed from the zoo.\n",
      "Animals in zoo: \n",
      "['Giraffe', 'Baboon']\n",
      "['Giraffe', 'Baboon']\n",
      "Grouped animals:\n",
      "B: ['Baboon']\n",
      "G: ['Giraffe']\n"
     ]
    }
   ],
   "source": [
    "# Exercise 4\n",
    "class Zoo():\n",
    "    def __init__(self, zoo_name):\n",
    "        self.zoo_name = zoo_name\n",
    "        self.animals = []\n",
    "        \n",
    "    def add_animal(self, new_animal):\n",
    "        if new_animal not in self.animals:\n",
    "            self.animals.append(new_animal)\n",
    "            print(f\"{new_animal} has been added to the zoo.\")\n",
    "        else:\n",
    "            print(f\"{new_animal} is already in the zoo.\")\n",
    "    \n",
    "    def get_animals(self):\n",
    "        print(\"Animals in zoo: \")\n",
    "        for animal in self.animals:\n",
    "            print(f\"{self.animals}\")\n",
    "            \n",
    "    def sell_animal(self,animal_sold):\n",
    "        if animal_sold in self.animals:\n",
    "            self.animals.remove(animal_sold)\n",
    "            print(f\"{animal_sold} has been removed from the zoo.\")\n",
    "        else:\n",
    "            print(f\"{animal_sold} is not in the zoo.\")\n",
    "            \n",
    "    def sort_animals(self):\n",
    "        sorted_animals = sorted(self.animals)\n",
    "        grouped_aniamals = {}\n",
    "        \n",
    "        for animal in sorted_animals:\n",
    "            first_letter = animal[0].upper()\n",
    "            if first_letter not in grouped_aniamals:\n",
    "                grouped_aniamals[first_letter] = []\n",
    "            grouped_aniamals[first_letter].append(animal)\n",
    "        \n",
    "        return grouped_aniamals\n",
    "    \n",
    "    def get_groups(self):\n",
    "        groups = self.sort_animals()\n",
    "        print(\"Grouped animals:\")\n",
    "        for letter, animals in groups.items():\n",
    "            print(f\"{letter}: {animals}\")\n",
    "            \n",
    "\n",
    "\n",
    "zooWorld = Zoo(\"Zoo World\")\n",
    "\n",
    "# Step 3: Use the Zoo methods\n",
    "zooWorld.add_animal(\"Giraffe\")\n",
    "zooWorld.add_animal(\"Bear\")\n",
    "zooWorld.add_animal(\"Baboon\")\n",
    "zooWorld.get_animals()\n",
    "zooWorld.sell_animal(\"Bear\")\n",
    "zooWorld.get_animals()\n",
    "zooWorld.sort_animals()\n",
    "zooWorld.get_groups()"
   ]
  }
 ],
 "metadata": {
  "kernelspec": {
   "display_name": ".venv",
   "language": "python",
   "name": "python3"
  },
  "language_info": {
   "codemirror_mode": {
    "name": "ipython",
    "version": 3
   },
   "file_extension": ".py",
   "mimetype": "text/x-python",
   "name": "python",
   "nbconvert_exporter": "python",
   "pygments_lexer": "ipython3",
   "version": "3.12.10"
  }
 },
 "nbformat": 4,
 "nbformat_minor": 5
}
