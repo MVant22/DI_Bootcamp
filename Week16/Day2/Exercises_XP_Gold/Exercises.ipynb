{
 "cells": [
  {
   "cell_type": "code",
   "execution_count": null,
   "id": "a7228997",
   "metadata": {},
   "outputs": [
    {
     "name": "stdout",
     "output_type": "stream",
     "text": [
      "Perimeter is 62.800000000000004\n",
      "The area is 314.0\n",
      "A circle is a shape made up of all the points on a flat surface that are the same distance from a central point.\n",
      "<__main__.Circle object at 0x000002987D327530>\n"
     ]
    }
   ],
   "source": [
    "# Exercise 1\n",
    "class Circle():\n",
    "    def __init__(self, radius):\n",
    "        self.radius = radius\n",
    "    \n",
    "    def perimeter(self):\n",
    "        perimeter = 2 * 3.14 * self.radius\n",
    "        print(f\"Perimeter is {perimeter}\")\n",
    "        \n",
    "    def area(self):\n",
    "        area = 3.14 * (self.radius * self.radius)\n",
    "        print(f\"The area is {area}\")\n",
    "    \n",
    "    def geometrical(self):\n",
    "        print(\"A circle is a shape made up of all the points on a flat surface that are the same distance from a central point.\")\n",
    "        \n",
    "    \n",
    "my_circle = Circle(10)\n",
    "my_circle.perimeter()\n",
    "my_circle.area()\n",
    "my_circle.geometrical()\n",
    "\n",
    "print(my_circle)\n",
    "        "
   ]
  },
  {
   "cell_type": "code",
   "execution_count": 21,
   "id": "0033ba27",
   "metadata": {},
   "outputs": [
    {
     "name": "stdout",
     "output_type": "stream",
     "text": [
      "The reverse list [5, 4, 3, 2, 1]\n",
      "The sorted list [1, 2, 3, 4, 5]\n"
     ]
    }
   ],
   "source": [
    "# Exercise 2\n",
    "class myList():\n",
    "    def __init__(self, letters):\n",
    "        self.letters = letters\n",
    "    \n",
    "    def reversed_list(self):\n",
    "        self.letters.reverse()\n",
    "        print(f\"The reverse list {self.letters}\")\n",
    "    \n",
    "    def sorted_list(self):\n",
    "        sorted_list = sorted(self.letters)\n",
    "        print(f\"The sorted list {sorted_list}\")\n",
    "        \n",
    "mylist = myList([1, 2, 3, 4, 5])\n",
    "\n",
    "mylist.reversed_list()\n",
    "mylist.sorted_list()"
   ]
  },
  {
   "cell_type": "code",
   "execution_count": 29,
   "id": "13f70b1a",
   "metadata": {},
   "outputs": [
    {
     "name": "stdout",
     "output_type": "stream",
     "text": [
      "{'name': 'Pizza', 'price': 20, 'spice_level': 'D', 'gluten': True} has been added to the menu.\n",
      "'Pizza' has been updated.\n",
      "'Soup' has been removed from the menu.\n",
      "The updated menu [{'name': 'Hamburger', 'price': 15, 'spice_level': 'A', 'gluten': True}, {'name': 'Salad', 'price': 18, 'spice_level': 'A', 'gluten': False}, {'name': 'French Fries', 'price': 5, 'spice_level': 'C', 'gluten': False}, {'name': 'Beef bourguignon', 'price': 25, 'spice_level': 'B', 'gluten': True}, {'name': 'Pizza', 'price': 22, 'spice_level': 'C', 'gluten': True}]\n",
      "'Soup' has been removed from the menu.\n",
      "The updated menu [{'name': 'Hamburger', 'price': 15, 'spice_level': 'A', 'gluten': True}, {'name': 'French Fries', 'price': 5, 'spice_level': 'C', 'gluten': False}, {'name': 'Beef bourguignon', 'price': 25, 'spice_level': 'B', 'gluten': True}, {'name': 'Pizza', 'price': 22, 'spice_level': 'C', 'gluten': True}]\n",
      "'Soup' has been removed from the menu.\n",
      "The updated menu [{'name': 'Hamburger', 'price': 15, 'spice_level': 'A', 'gluten': True}, {'name': 'French Fries', 'price': 5, 'spice_level': 'C', 'gluten': False}, {'name': 'Pizza', 'price': 22, 'spice_level': 'C', 'gluten': True}]\n"
     ]
    }
   ],
   "source": [
    "# Exercise 3\n",
    "class MenuManager():\n",
    "    def __init__(self, menu=None):\n",
    "        self.menu = [\n",
    "            {\"name\": \"Soup\", \"price\": 10, \"spice_level\": \"B\", \"gluten\": False},\n",
    "            {\"name\": \"Hamburger\", \"price\": 15, \"spice_level\": \"A\", \"gluten\": True},\n",
    "            {\"name\": \"Salad\", \"price\": 18, \"spice_level\": \"A\", \"gluten\": False},\n",
    "            {\"name\": \"French Fries\", \"price\": 5, \"spice_level\": \"C\", \"gluten\": False},\n",
    "            {\"name\": \"Beef bourguignon\", \"price\": 25, \"spice_level\": \"B\", \"gluten\": True}\n",
    "        ]\n",
    "    \n",
    "    def add_item(self, name, price, spice, gluten):\n",
    "        new_menu = {\n",
    "            \"name\": name,\n",
    "            \"price\": price,\n",
    "            \"spice_level\": spice,\n",
    "            \"gluten\": gluten\n",
    "        }\n",
    "        self.menu.append(new_menu)\n",
    "        print(f\"{new_menu} has been added to the menu.\")\n",
    "    \n",
    "    def update_item(self, name, price, spice, gluten):\n",
    "        for dish in self.menu:\n",
    "            if dish[\"name\"].lower() == name.lower():\n",
    "                dish[\"price\"] = price\n",
    "                dish[\"spice_level\"] = spice\n",
    "                dish[\"gluten\"] = gluten\n",
    "                print(f\"'{name}' has been updated.\")\n",
    "                return\n",
    "        print(f\"'{name}' is not in the menu. Please notify the manager.\")\n",
    "    \n",
    "    \n",
    "    def remove_item(self,name):\n",
    "        for dish in self.menu:\n",
    "            if dish in self.menu:\n",
    "                self.menu.remove(dish)\n",
    "                print(f\"'{name}' has been removed from the menu.\")\n",
    "                print(f\"The updated menu {self.menu}\")\n",
    "            else:\n",
    "                print(f\"'{name}' is not in the menu.\")\n",
    "    \n",
    "\n",
    "my_menu = MenuManager()\n",
    "my_menu.add_item(\"Pizza\", 20, \"D\", True)\n",
    "my_menu.update_item(\"Pizza\", 22, \"C\", True)\n",
    "my_menu.remove_item(\"Soup\")\n"
   ]
  }
 ],
 "metadata": {
  "kernelspec": {
   "display_name": ".venv",
   "language": "python",
   "name": "python3"
  },
  "language_info": {
   "codemirror_mode": {
    "name": "ipython",
    "version": 3
   },
   "file_extension": ".py",
   "mimetype": "text/x-python",
   "name": "python",
   "nbconvert_exporter": "python",
   "pygments_lexer": "ipython3",
   "version": "3.12.10"
  }
 },
 "nbformat": 4,
 "nbformat_minor": 5
}
