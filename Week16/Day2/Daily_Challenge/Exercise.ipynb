{
 "cells": [
  {
   "cell_type": "code",
   "execution_count": 1,
   "id": "317b25d6",
   "metadata": {},
   "outputs": [
    {
     "name": "stdout",
     "output_type": "stream",
     "text": [
      "Added 5 cow. Current animals: {'cow': 5}\n",
      "Added 1 sheep. Current animals: {'cow': 5, 'sheep': 1}\n",
      "Added 1 sheep. Current animals: {'cow': 5, 'sheep': 2}\n",
      "Added 12 goat. Current animals: {'cow': 5, 'sheep': 2, 'goat': 12}\n",
      "McDonald's Farm\n",
      "---------------\n",
      "cow        : 5\n",
      "sheep      : 2\n",
      "goat       : 12\n",
      "\n",
      "E-I-E-I-O!\n"
     ]
    }
   ],
   "source": [
    "class Farm():\n",
    "    def __init__(self, farn_name):\n",
    "        self.name = farn_name\n",
    "        self.animals = {}\n",
    "    \n",
    "    def add_animal(self, animal_type, count=1):\n",
    "        if animal_type in self.animals:\n",
    "            self.animals[animal_type] += count\n",
    "        else:\n",
    "            self.animals[animal_type] = count\n",
    "        print(f\"Added {count} {animal_type}. Current animals: {self.animals}\")\n",
    "    \n",
    "    def get_info(self):\n",
    "        output = f\"{self.name}'s Farm\\n\"\n",
    "        output += \"-\" * (len(self.name) + 7) + \"\\n\"\n",
    "        for animal, count in self.animals.items():\n",
    "            output += f\"{animal:<10} : {count}\\n\"\n",
    "        output += \"\\nE-I-E-I-O!\"\n",
    "        return output\n",
    "    \n",
    "\n",
    "macdonald = Farm(\"McDonald\")\n",
    "macdonald.add_animal('cow', 5)\n",
    "macdonald.add_animal('sheep')\n",
    "macdonald.add_animal('sheep')\n",
    "macdonald.add_animal('goat', 12)\n",
    "print(macdonald.get_info())"
   ]
  }
 ],
 "metadata": {
  "kernelspec": {
   "display_name": ".venv",
   "language": "python",
   "name": "python3"
  },
  "language_info": {
   "codemirror_mode": {
    "name": "ipython",
    "version": 3
   },
   "file_extension": ".py",
   "mimetype": "text/x-python",
   "name": "python",
   "nbconvert_exporter": "python",
   "pygments_lexer": "ipython3",
   "version": "3.12.10"
  }
 },
 "nbformat": 4,
 "nbformat_minor": 5
}
