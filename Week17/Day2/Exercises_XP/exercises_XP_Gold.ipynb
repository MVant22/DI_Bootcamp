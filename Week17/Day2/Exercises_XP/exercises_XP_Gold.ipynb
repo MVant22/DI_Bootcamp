{
 "cells": [
  {
   "cell_type": "code",
   "execution_count": 1,
   "id": "af14865b",
   "metadata": {},
   "outputs": [
    {
     "name": "stdout",
     "output_type": "stream",
     "text": [
      "The next holiday is: 2025-09-01 - Labor Day\n"
     ]
    }
   ],
   "source": [
    "# Exercise\n",
    "from datetime import date\n",
    "import holidays\n",
    "\n",
    "def todaydate():\n",
    "    start_date = date.today()\n",
    "    \n",
    "    us_holidays = holidays.US()\n",
    "    \n",
    "    next_holiday = None\n",
    "    current_date = start_date\n",
    "    \n",
    "    while next_holiday is None:\n",
    "        if current_date in us_holidays:\n",
    "            next_holiday = current_date\n",
    "        else:\n",
    "            current_date = current_date.fromordinal(current_date.toordinal() + 1)\n",
    "    \n",
    "    if next_holiday:\n",
    "        print(f\"The next holiday is: {next_holiday} - {us_holidays.get(next_holiday)}\")\n",
    "    else:\n",
    "        print(\"No upcoming holidays found within the specified search range.\")\n",
    "\n",
    "todaydate()"
   ]
  },
  {
   "cell_type": "code",
   "execution_count": 4,
   "id": "3c6b4c95",
   "metadata": {},
   "outputs": [
    {
     "name": "stdout",
     "output_type": "stream",
     "text": [
      "Age in seconds: 1000000000\n",
      "\n",
      "On Earth: 31.69 years old\n",
      "On Mercury: 131.57 years old\n",
      "On Venus: 51.51 years old\n",
      "On Mars: 16.85 years old\n",
      "On Jupiter: 2.67 years old\n",
      "On Saturn: 1.08 years old\n",
      "On Uranus: 0.38 years old\n",
      "On Neptune: 0.19 years old\n"
     ]
    }
   ],
   "source": [
    "# Exercise 2\n",
    "def age_on_planets(age_in_seconds):\n",
    "    \n",
    "    earth_year_seconds = 31557600\n",
    "\n",
    "    orbital_periods = {\n",
    "        \"Earth\": 1.0,\n",
    "        \"Mercury\": 0.2408467,\n",
    "        \"Venus\": 0.61519726,\n",
    "        \"Mars\": 1.8808158,\n",
    "        \"Jupiter\": 11.862615,\n",
    "        \"Saturn\": 29.447498,\n",
    "        \"Uranus\": 84.016846,\n",
    "        \"Neptune\": 164.79132\n",
    "    }\n",
    "    \n",
    "    print(f\"Age in seconds: {age_in_seconds}\\n\")\n",
    "    for planet, period in orbital_periods.items():\n",
    "        age = age_in_seconds / (earth_year_seconds * period)\n",
    "        print(f\"On {planet}: {age:.2f} years old\")\n",
    "\n",
    "age_on_planets(1_000_000_000)"
   ]
  },
  {
   "cell_type": "code",
   "execution_count": null,
   "id": "65e5983d",
   "metadata": {},
   "outputs": [],
   "source": []
  }
 ],
 "metadata": {
  "kernelspec": {
   "display_name": ".venv",
   "language": "python",
   "name": "python3"
  },
  "language_info": {
   "codemirror_mode": {
    "name": "ipython",
    "version": 3
   },
   "file_extension": ".py",
   "mimetype": "text/x-python",
   "name": "python",
   "nbconvert_exporter": "python",
   "pygments_lexer": "ipython3",
   "version": "3.12.10"
  }
 },
 "nbformat": 4,
 "nbformat_minor": 5
}
