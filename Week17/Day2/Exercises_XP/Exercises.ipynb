{
 "cells": [
  {
   "cell_type": "code",
   "execution_count": 1,
   "id": "835ef0d9",
   "metadata": {},
   "outputs": [
    {
     "name": "stdout",
     "output_type": "stream",
     "text": [
      "10 dollar\n",
      "15 dollar\n",
      "5 dollar\n",
      "5 dollar\n",
      "15 dollar\n"
     ]
    }
   ],
   "source": [
    "# Exercise 1 : Currencies\n",
    "class Currency():\n",
    "    def __init__(self, currency, amount):\n",
    "        self.currency = currency\n",
    "        self.amount = amount\n",
    "        \n",
    "    def __str__(self):\n",
    "        return f\"{self.amount} {self.currency}\"\n",
    "    \n",
    "    def __int__(self):\n",
    "        return int(self.amount)\n",
    "    \n",
    "    def __repr__(self):\n",
    "        return f\"{self.amount} {self.currency}\"\n",
    "    \n",
    "    def __add__(self, other):\n",
    "        if isinstance(other, Currency):\n",
    "            if self.currency != other.currency:\n",
    "                raise TypeError(\"Cannot add different currencies\")\n",
    "            return Currency(self.currency, self.amount + other.amount)\n",
    "        elif isinstance(other, (int, float)):\n",
    "            return Currency(self.currency, self.amount + other)\n",
    "        else:\n",
    "            raise TypeError(\"Unsupported operand type for +\")\n",
    "    \n",
    "    def __iadd__(self, other):\n",
    "        if isinstance(other, Currency):\n",
    "            if self.currency != other.currency:\n",
    "                raise TypeError(\"Cannot add different currencies\")\n",
    "            self.amount += other.amount\n",
    "        elif isinstance(other, (int, float)):\n",
    "            self.amount + other\n",
    "        else:\n",
    "            raise TypeError(\"Unsupported operand type for +\")\n",
    "        \n",
    "        return self\n",
    "\n",
    "c1 = Currency('dollar', 5)\n",
    "c2 = Currency('dollar', 10)\n",
    "c3 = Currency('shekel', 1)\n",
    "c4 = Currency('shekel', 10)\n",
    "\n",
    "str(c1)\n",
    "int(c1)\n",
    "repr(c1)\n",
    "print(c1 + 5)\n",
    "print(c1 + c2)\n",
    "print(c1)\n",
    "c1 += 5\n",
    "print(c1)\n",
    "c1 += c2\n",
    "print(c1)\n",
    "\n",
    "# print(c1 + c3)\n",
    "        \n",
    "\n"
   ]
  },
  {
   "cell_type": "code",
   "execution_count": 14,
   "id": "4ba97af0",
   "metadata": {},
   "outputs": [
    {
     "name": "stdout",
     "output_type": "stream",
     "text": [
      "IKIJu\n"
     ]
    }
   ],
   "source": [
    "# Exercise 3\n",
    "import random\n",
    "import string\n",
    "\n",
    "all_letters = string.ascii_letters\n",
    "\n",
    "random_string = ''\n",
    "for i in range(5):\n",
    "    random_char = random.choice(all_letters)\n",
    "    random_string += random_char\n",
    "\n",
    "print(random_string)"
   ]
  },
  {
   "cell_type": "code",
   "execution_count": 15,
   "id": "df8700d3",
   "metadata": {},
   "outputs": [
    {
     "name": "stdout",
     "output_type": "stream",
     "text": [
      "2025-07-05 10:35:07.624174\n"
     ]
    }
   ],
   "source": [
    "# Exercise 4\n",
    "import datetime\n",
    "\n",
    "def time():\n",
    "    x = datetime.datetime.now()\n",
    "    print(x)\n",
    "    \n",
    "time()"
   ]
  },
  {
   "cell_type": "code",
   "execution_count": 16,
   "id": "09af39d0",
   "metadata": {},
   "outputs": [
    {
     "name": "stdout",
     "output_type": "stream",
     "text": [
      "Time left to 1st Jan 179 days, 13:18:25.922734\n"
     ]
    }
   ],
   "source": [
    "# Exercise 5\n",
    "import datetime\n",
    "\n",
    "current_time = datetime.datetime.now()\n",
    "first_jan = datetime.datetime(2026, 1, 1)\n",
    "\n",
    "current_time_diff = first_jan - current_time\n",
    "\n",
    "print(f\"Time left to 1st Jan {current_time_diff}\")\n"
   ]
  },
  {
   "cell_type": "code",
   "execution_count": 11,
   "id": "90c4ca4c",
   "metadata": {},
   "outputs": [
    {
     "name": "stdout",
     "output_type": "stream",
     "text": [
      "You have lived approximately 13,417,276 minutes.\n"
     ]
    }
   ],
   "source": [
    "# Exercise 6\n",
    "import datetime\n",
    "\n",
    "\n",
    "def birthday(birthdate_str):\n",
    "    birth_data = datetime.datetime.strptime(birthdate_str, \"%Y-%m-%d\")\n",
    "    \n",
    "    current_data = datetime.datetime.now()\n",
    "    \n",
    "    time_diff = current_data - birth_data\n",
    "    \n",
    "    total_minutes = time_diff.total_seconds()/60\n",
    "    \n",
    "    print(f\"You have lived approximately {int(total_minutes):,} minutes.\")\n",
    "\n",
    "birthday(\"2000-01-01\")\n",
    "    "
   ]
  },
  {
   "cell_type": "code",
   "execution_count": 14,
   "id": "8d889947",
   "metadata": {},
   "outputs": [
    {
     "name": "stdout",
     "output_type": "stream",
     "text": [
      "User 1\n",
      " name: Miss Tara Rivera\n",
      " address: 2295 Murray Run Apt. 216\n",
      "Port Donald, NC 96349\n",
      " language_code: ve\n",
      "\n",
      "User 2\n",
      " name: Janet Smith\n",
      " address: USS Perez\n",
      "FPO AE 76874\n",
      " language_code: pap\n",
      "\n",
      "User 3\n",
      " name: Darrell Berger\n",
      " address: 0206 Bentley Divide\n",
      "Wesleybury, NM 22497\n",
      " language_code: li\n",
      "\n",
      "User 4\n",
      " name: Dwayne Snyder\n",
      " address: USNS Sanchez\n",
      "FPO AP 35542\n",
      " language_code: ku\n",
      "\n",
      "User 5\n",
      " name: Evan Davenport\n",
      " address: 3391 Nguyen Skyway\n",
      "Sarachester, SD 10636\n",
      " language_code: so\n",
      "\n"
     ]
    }
   ],
   "source": [
    "# Exercises 7\n",
    "from faker import Faker\n",
    "\n",
    "faker = Faker()\n",
    "\n",
    "users_list = []\n",
    "\n",
    "def add_users(num_numbers):\n",
    "    for _ in range(num_numbers):\n",
    "        user = {\n",
    "            \"name\": faker.name(),\n",
    "            \"address\": faker.address(),\n",
    "            \"language_code\": faker.language_code()\n",
    "        }\n",
    "        users_list.append(user)\n",
    "\n",
    "    for i , user in enumerate(users_list, start=1):\n",
    "        print(f\"User {i}\")\n",
    "        for key, value in user.items():\n",
    "            print(f\" {key}: {value}\")\n",
    "        print()\n",
    "\n",
    "\n",
    "add_users(5)\n"
   ]
  }
 ],
 "metadata": {
  "kernelspec": {
   "display_name": ".venv",
   "language": "python",
   "name": "python3"
  },
  "language_info": {
   "codemirror_mode": {
    "name": "ipython",
    "version": 3
   },
   "file_extension": ".py",
   "mimetype": "text/x-python",
   "name": "python",
   "nbconvert_exporter": "python",
   "pygments_lexer": "ipython3",
   "version": "3.12.10"
  }
 },
 "nbformat": 4,
 "nbformat_minor": 5
}
