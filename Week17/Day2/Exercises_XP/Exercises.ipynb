{
 "cells": [
  {
   "cell_type": "code",
   "execution_count": 1,
   "id": "835ef0d9",
   "metadata": {},
   "outputs": [
    {
     "name": "stdout",
     "output_type": "stream",
     "text": [
      "10 dollar\n",
      "15 dollar\n",
      "5 dollar\n",
      "5 dollar\n",
      "15 dollar\n"
     ]
    }
   ],
   "source": [
    "# Exercise 1 : Currencies\n",
    "class Currency():\n",
    "    def __init__(self, currency, amount):\n",
    "        self.currency = currency\n",
    "        self.amount = amount\n",
    "        \n",
    "    def __str__(self):\n",
    "        return f\"{self.amount} {self.currency}\"\n",
    "    \n",
    "    def __int__(self):\n",
    "        return int(self.amount)\n",
    "    \n",
    "    def __repr__(self):\n",
    "        return f\"{self.amount} {self.currency}\"\n",
    "    \n",
    "    def __add__(self, other):\n",
    "        if isinstance(other, Currency):\n",
    "            if self.currency != other.currency:\n",
    "                raise TypeError(\"Cannot add different currencies\")\n",
    "            return Currency(self.currency, self.amount + other.amount)\n",
    "        elif isinstance(other, (int, float)):\n",
    "            return Currency(self.currency, self.amount + other)\n",
    "        else:\n",
    "            raise TypeError(\"Unsupported operand type for +\")\n",
    "    \n",
    "    def __iadd__(self, other):\n",
    "        if isinstance(other, Currency):\n",
    "            if self.currency != other.currency:\n",
    "                raise TypeError(\"Cannot add different currencies\")\n",
    "            self.amount += other.amount\n",
    "        elif isinstance(other, (int, float)):\n",
    "            self.amount + other\n",
    "        else:\n",
    "            raise TypeError(\"Unsupported operand type for +\")\n",
    "        \n",
    "        return self\n",
    "\n",
    "c1 = Currency('dollar', 5)\n",
    "c2 = Currency('dollar', 10)\n",
    "c3 = Currency('shekel', 1)\n",
    "c4 = Currency('shekel', 10)\n",
    "\n",
    "str(c1)\n",
    "int(c1)\n",
    "repr(c1)\n",
    "print(c1 + 5)\n",
    "print(c1 + c2)\n",
    "print(c1)\n",
    "c1 += 5\n",
    "print(c1)\n",
    "c1 += c2\n",
    "print(c1)\n",
    "\n",
    "# print(c1 + c3)\n",
    "        \n",
    "\n"
   ]
  },
  {
   "cell_type": "code",
   "execution_count": 14,
   "id": "4ba97af0",
   "metadata": {},
   "outputs": [
    {
     "name": "stdout",
     "output_type": "stream",
     "text": [
      "IKIJu\n"
     ]
    }
   ],
   "source": [
    "# Exercise 3\n",
    "import random\n",
    "import string\n",
    "\n",
    "all_letters = string.ascii_letters\n",
    "\n",
    "random_string = ''\n",
    "for i in range(5):\n",
    "    random_char = random.choice(all_letters)\n",
    "    random_string += random_char\n",
    "\n",
    "print(random_string)"
   ]
  },
  {
   "cell_type": "code",
   "execution_count": 15,
   "id": "df8700d3",
   "metadata": {},
   "outputs": [
    {
     "name": "stdout",
     "output_type": "stream",
     "text": [
      "2025-07-05 10:35:07.624174\n"
     ]
    }
   ],
   "source": [
    "# Exercise 4\n",
    "import datetime\n",
    "\n",
    "def time():\n",
    "    x = datetime.datetime.now()\n",
    "    print(x)\n",
    "    \n",
    "time()"
   ]
  },
  {
   "cell_type": "code",
   "execution_count": 16,
   "id": "09af39d0",
   "metadata": {},
   "outputs": [
    {
     "name": "stdout",
     "output_type": "stream",
     "text": [
      "Time left to 1st Jan 179 days, 13:18:25.922734\n"
     ]
    }
   ],
   "source": [
    "# Exercise 5\n",
    "import datetime\n",
    "\n",
    "current_time = datetime.datetime.now()\n",
    "first_jan = datetime.datetime(2026, 1, 1)\n",
    "\n",
    "current_time_diff = first_jan - current_time\n",
    "\n",
    "print(f\"Time left to 1st Jan {current_time_diff}\")\n"
   ]
  },
  {
   "cell_type": "code",
   "execution_count": null,
   "id": "90c4ca4c",
   "metadata": {},
   "outputs": [],
   "source": [
    "# Exercise 6\n",
    "import datetime\n",
    "\n",
    "\n",
    "def birthday(date):\n",
    "    time_data = \"22/04/2000 13:00:5.523\"\n",
    "    format_data = \"%d/%m/%y %H:%M:%S.%f\"\n",
    "    \n",
    "    date = datetime.strptime(time_data, format_data)\n",
    "    \n",
    "    print(date.microsecond)\n",
    "\n",
    "birthday()\n",
    "    "
   ]
  }
 ],
 "metadata": {
  "kernelspec": {
   "display_name": ".venv",
   "language": "python",
   "name": "python3"
  },
  "language_info": {
   "codemirror_mode": {
    "name": "ipython",
    "version": 3
   },
   "file_extension": ".py",
   "mimetype": "text/x-python",
   "name": "python",
   "nbconvert_exporter": "python",
   "pygments_lexer": "ipython3",
   "version": "3.12.10"
  }
 },
 "nbformat": 4,
 "nbformat_minor": 5
}
